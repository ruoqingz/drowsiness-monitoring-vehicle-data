{
 "cells": [
  {
   "metadata": {},
   "cell_type": "markdown",
   "source": [
    "Dickey-Fuller Test: Check the stationarity of the time series\n",
    "null hypothesis: the time series is non-stationary\n",
    "if p-value < 0.05, reject the null hypothesis, the time series is stationary"
   ],
   "id": "d67e79cacd068d45"
  },
  {
   "metadata": {
    "ExecuteTime": {
     "end_time": "2024-07-15T08:56:03.463593Z",
     "start_time": "2024-07-15T08:49:35.235475Z"
    }
   },
   "cell_type": "code",
   "source": [
    "from statsmodels.tsa.stattools import adfuller, kpss\n",
    "import json\n",
    "import os\n",
    "\n",
    "os.chdir(\"/Users/ruotsing/PycharmProjects/DMS\")\n",
    "with open('preprocess_data/SWA_data.json', 'r') as f:\n",
    "    SWA_data = json.load(f)\n",
    "    \n",
    "for name in SWA_data.keys():\n",
    "    adf_result = adfuller(SWA_data[name])\n",
    "    kpss_result = kpss(SWA_data[name])\n",
    "    print('-----------ADF test on SWA Data: '+ name + '-----------')\n",
    "    print('ADF Statistic: %f' % adf_result[0])\n",
    "    print('p-value: %f' % adf_result[1])\n",
    "    print('Critical Values:')\n",
    "    for key, value in adf_result[4].items():\n",
    "        print('\\t%s: %.3f' % (key, value))\n",
    "    print('-----------KPSS test on SWA Data: '+ name + '-----------')\n",
    "    print('KPSS Statistic: %f' % kpss_result[0])\n",
    "    print('p-value: %f' % kpss_result[1])\n",
    "    print('Critical Values:')\n",
    "    for key, value in kpss_result[3].items():\n",
    "        print('\\t%s: %.3f' % (key, value))"
   ],
   "id": "dcc96df9051aea2f",
   "outputs": [
    {
     "name": "stdout",
     "output_type": "stream",
     "text": [
      "-----------Data: emanuele-----------\n",
      "ADF Statistic: -41.951323\n",
      "p-value: 0.000000\n",
      "Critical Values:\n",
      "\t1%: -3.430\n",
      "\t5%: -2.862\n",
      "\t10%: -2.567\n",
      "-----------Data: michele-----------\n",
      "ADF Statistic: -38.742363\n",
      "p-value: 0.000000\n",
      "Critical Values:\n",
      "\t1%: -3.430\n",
      "\t5%: -2.862\n",
      "\t10%: -2.567\n"
     ]
    },
    {
     "ename": "KeyboardInterrupt",
     "evalue": "",
     "output_type": "error",
     "traceback": [
      "\u001B[0;31m---------------------------------------------------------------------------\u001B[0m",
      "\u001B[0;31mKeyboardInterrupt\u001B[0m                         Traceback (most recent call last)",
      "Cell \u001B[0;32mIn[3], line 10\u001B[0m\n\u001B[1;32m      7\u001B[0m     SWA_data \u001B[38;5;241m=\u001B[39m json\u001B[38;5;241m.\u001B[39mload(f)\n\u001B[1;32m      9\u001B[0m \u001B[38;5;28;01mfor\u001B[39;00m name \u001B[38;5;129;01min\u001B[39;00m SWA_data\u001B[38;5;241m.\u001B[39mkeys():\n\u001B[0;32m---> 10\u001B[0m     result \u001B[38;5;241m=\u001B[39m \u001B[43madfuller\u001B[49m\u001B[43m(\u001B[49m\u001B[43mSWA_data\u001B[49m\u001B[43m[\u001B[49m\u001B[43mname\u001B[49m\u001B[43m]\u001B[49m\u001B[43m)\u001B[49m\n\u001B[1;32m     11\u001B[0m     \u001B[38;5;28mprint\u001B[39m(\u001B[38;5;124m'\u001B[39m\u001B[38;5;124m-----------Data: \u001B[39m\u001B[38;5;124m'\u001B[39m\u001B[38;5;241m+\u001B[39m name \u001B[38;5;241m+\u001B[39m \u001B[38;5;124m'\u001B[39m\u001B[38;5;124m-----------\u001B[39m\u001B[38;5;124m'\u001B[39m)\n\u001B[1;32m     12\u001B[0m     \u001B[38;5;28mprint\u001B[39m(\u001B[38;5;124m'\u001B[39m\u001B[38;5;124mADF Statistic: \u001B[39m\u001B[38;5;132;01m%f\u001B[39;00m\u001B[38;5;124m'\u001B[39m \u001B[38;5;241m%\u001B[39m result[\u001B[38;5;241m0\u001B[39m])\n",
      "File \u001B[0;32m~/PycharmProjects/DMS/venv/lib/python3.11/site-packages/statsmodels/tsa/stattools.py:326\u001B[0m, in \u001B[0;36madfuller\u001B[0;34m(x, maxlag, regression, autolag, store, regresults)\u001B[0m\n\u001B[1;32m    320\u001B[0m \u001B[38;5;66;03m# 1 for level\u001B[39;00m\n\u001B[1;32m    321\u001B[0m \u001B[38;5;66;03m# search for lag length with smallest information criteria\u001B[39;00m\n\u001B[1;32m    322\u001B[0m \u001B[38;5;66;03m# Note: use the same number of observations to have comparable IC\u001B[39;00m\n\u001B[1;32m    323\u001B[0m \u001B[38;5;66;03m# aic and bic: smaller is better\u001B[39;00m\n\u001B[1;32m    325\u001B[0m \u001B[38;5;28;01mif\u001B[39;00m \u001B[38;5;129;01mnot\u001B[39;00m regresults:\n\u001B[0;32m--> 326\u001B[0m     icbest, bestlag \u001B[38;5;241m=\u001B[39m \u001B[43m_autolag\u001B[49m\u001B[43m(\u001B[49m\n\u001B[1;32m    327\u001B[0m \u001B[43m        \u001B[49m\u001B[43mOLS\u001B[49m\u001B[43m,\u001B[49m\u001B[43m \u001B[49m\u001B[43mxdshort\u001B[49m\u001B[43m,\u001B[49m\u001B[43m \u001B[49m\u001B[43mfullRHS\u001B[49m\u001B[43m,\u001B[49m\u001B[43m \u001B[49m\u001B[43mstartlag\u001B[49m\u001B[43m,\u001B[49m\u001B[43m \u001B[49m\u001B[43mmaxlag\u001B[49m\u001B[43m,\u001B[49m\u001B[43m \u001B[49m\u001B[43mautolag\u001B[49m\n\u001B[1;32m    328\u001B[0m \u001B[43m    \u001B[49m\u001B[43m)\u001B[49m\n\u001B[1;32m    329\u001B[0m \u001B[38;5;28;01melse\u001B[39;00m:\n\u001B[1;32m    330\u001B[0m     icbest, bestlag, alres \u001B[38;5;241m=\u001B[39m _autolag(\n\u001B[1;32m    331\u001B[0m         OLS,\n\u001B[1;32m    332\u001B[0m         xdshort,\n\u001B[0;32m   (...)\u001B[0m\n\u001B[1;32m    337\u001B[0m         regresults\u001B[38;5;241m=\u001B[39mregresults,\n\u001B[1;32m    338\u001B[0m     )\n",
      "File \u001B[0;32m~/PycharmProjects/DMS/venv/lib/python3.11/site-packages/statsmodels/tsa/stattools.py:133\u001B[0m, in \u001B[0;36m_autolag\u001B[0;34m(mod, endog, exog, startlag, maxlag, method, modargs, fitargs, regresults)\u001B[0m\n\u001B[1;32m    131\u001B[0m \u001B[38;5;28;01mfor\u001B[39;00m lag \u001B[38;5;129;01min\u001B[39;00m \u001B[38;5;28mrange\u001B[39m(startlag, startlag \u001B[38;5;241m+\u001B[39m maxlag \u001B[38;5;241m+\u001B[39m \u001B[38;5;241m1\u001B[39m):\n\u001B[1;32m    132\u001B[0m     mod_instance \u001B[38;5;241m=\u001B[39m mod(endog, exog[:, :lag], \u001B[38;5;241m*\u001B[39mmodargs)\n\u001B[0;32m--> 133\u001B[0m     results[lag] \u001B[38;5;241m=\u001B[39m \u001B[43mmod_instance\u001B[49m\u001B[38;5;241;43m.\u001B[39;49m\u001B[43mfit\u001B[49m\u001B[43m(\u001B[49m\u001B[43m)\u001B[49m\n\u001B[1;32m    135\u001B[0m \u001B[38;5;28;01mif\u001B[39;00m method \u001B[38;5;241m==\u001B[39m \u001B[38;5;124m\"\u001B[39m\u001B[38;5;124maic\u001B[39m\u001B[38;5;124m\"\u001B[39m:\n\u001B[1;32m    136\u001B[0m     icbest, bestlag \u001B[38;5;241m=\u001B[39m \u001B[38;5;28mmin\u001B[39m((v\u001B[38;5;241m.\u001B[39maic, k) \u001B[38;5;28;01mfor\u001B[39;00m k, v \u001B[38;5;129;01min\u001B[39;00m results\u001B[38;5;241m.\u001B[39mitems())\n",
      "File \u001B[0;32m~/PycharmProjects/DMS/venv/lib/python3.11/site-packages/statsmodels/regression/linear_model.py:336\u001B[0m, in \u001B[0;36mRegressionModel.fit\u001B[0;34m(self, method, cov_type, cov_kwds, use_t, **kwargs)\u001B[0m\n\u001B[1;32m    331\u001B[0m \u001B[38;5;28;01mif\u001B[39;00m method \u001B[38;5;241m==\u001B[39m \u001B[38;5;124m\"\u001B[39m\u001B[38;5;124mpinv\u001B[39m\u001B[38;5;124m\"\u001B[39m:\n\u001B[1;32m    332\u001B[0m     \u001B[38;5;28;01mif\u001B[39;00m \u001B[38;5;129;01mnot\u001B[39;00m (\u001B[38;5;28mhasattr\u001B[39m(\u001B[38;5;28mself\u001B[39m, \u001B[38;5;124m'\u001B[39m\u001B[38;5;124mpinv_wexog\u001B[39m\u001B[38;5;124m'\u001B[39m) \u001B[38;5;129;01mand\u001B[39;00m\n\u001B[1;32m    333\u001B[0m             \u001B[38;5;28mhasattr\u001B[39m(\u001B[38;5;28mself\u001B[39m, \u001B[38;5;124m'\u001B[39m\u001B[38;5;124mnormalized_cov_params\u001B[39m\u001B[38;5;124m'\u001B[39m) \u001B[38;5;129;01mand\u001B[39;00m\n\u001B[1;32m    334\u001B[0m             \u001B[38;5;28mhasattr\u001B[39m(\u001B[38;5;28mself\u001B[39m, \u001B[38;5;124m'\u001B[39m\u001B[38;5;124mrank\u001B[39m\u001B[38;5;124m'\u001B[39m)):\n\u001B[0;32m--> 336\u001B[0m         \u001B[38;5;28mself\u001B[39m\u001B[38;5;241m.\u001B[39mpinv_wexog, singular_values \u001B[38;5;241m=\u001B[39m \u001B[43mpinv_extended\u001B[49m\u001B[43m(\u001B[49m\u001B[38;5;28;43mself\u001B[39;49m\u001B[38;5;241;43m.\u001B[39;49m\u001B[43mwexog\u001B[49m\u001B[43m)\u001B[49m\n\u001B[1;32m    337\u001B[0m         \u001B[38;5;28mself\u001B[39m\u001B[38;5;241m.\u001B[39mnormalized_cov_params \u001B[38;5;241m=\u001B[39m np\u001B[38;5;241m.\u001B[39mdot(\n\u001B[1;32m    338\u001B[0m             \u001B[38;5;28mself\u001B[39m\u001B[38;5;241m.\u001B[39mpinv_wexog, np\u001B[38;5;241m.\u001B[39mtranspose(\u001B[38;5;28mself\u001B[39m\u001B[38;5;241m.\u001B[39mpinv_wexog))\n\u001B[1;32m    340\u001B[0m         \u001B[38;5;66;03m# Cache these singular values for use later.\u001B[39;00m\n",
      "File \u001B[0;32m~/PycharmProjects/DMS/venv/lib/python3.11/site-packages/statsmodels/tools/tools.py:264\u001B[0m, in \u001B[0;36mpinv_extended\u001B[0;34m(x, rcond)\u001B[0m\n\u001B[1;32m    262\u001B[0m x \u001B[38;5;241m=\u001B[39m np\u001B[38;5;241m.\u001B[39masarray(x)\n\u001B[1;32m    263\u001B[0m x \u001B[38;5;241m=\u001B[39m x\u001B[38;5;241m.\u001B[39mconjugate()\n\u001B[0;32m--> 264\u001B[0m u, s, vt \u001B[38;5;241m=\u001B[39m \u001B[43mnp\u001B[49m\u001B[38;5;241;43m.\u001B[39;49m\u001B[43mlinalg\u001B[49m\u001B[38;5;241;43m.\u001B[39;49m\u001B[43msvd\u001B[49m\u001B[43m(\u001B[49m\u001B[43mx\u001B[49m\u001B[43m,\u001B[49m\u001B[43m \u001B[49m\u001B[38;5;28;43;01mFalse\u001B[39;49;00m\u001B[43m)\u001B[49m\n\u001B[1;32m    265\u001B[0m s_orig \u001B[38;5;241m=\u001B[39m np\u001B[38;5;241m.\u001B[39mcopy(s)\n\u001B[1;32m    266\u001B[0m m \u001B[38;5;241m=\u001B[39m u\u001B[38;5;241m.\u001B[39mshape[\u001B[38;5;241m0\u001B[39m]\n",
      "File \u001B[0;32m~/PycharmProjects/DMS/venv/lib/python3.11/site-packages/numpy/linalg/linalg.py:1681\u001B[0m, in \u001B[0;36msvd\u001B[0;34m(a, full_matrices, compute_uv, hermitian)\u001B[0m\n\u001B[1;32m   1678\u001B[0m         gufunc \u001B[38;5;241m=\u001B[39m _umath_linalg\u001B[38;5;241m.\u001B[39msvd_n_s\n\u001B[1;32m   1680\u001B[0m signature \u001B[38;5;241m=\u001B[39m \u001B[38;5;124m'\u001B[39m\u001B[38;5;124mD->DdD\u001B[39m\u001B[38;5;124m'\u001B[39m \u001B[38;5;28;01mif\u001B[39;00m isComplexType(t) \u001B[38;5;28;01melse\u001B[39;00m \u001B[38;5;124m'\u001B[39m\u001B[38;5;124md->ddd\u001B[39m\u001B[38;5;124m'\u001B[39m\n\u001B[0;32m-> 1681\u001B[0m u, s, vh \u001B[38;5;241m=\u001B[39m \u001B[43mgufunc\u001B[49m\u001B[43m(\u001B[49m\u001B[43ma\u001B[49m\u001B[43m,\u001B[49m\u001B[43m \u001B[49m\u001B[43msignature\u001B[49m\u001B[38;5;241;43m=\u001B[39;49m\u001B[43msignature\u001B[49m\u001B[43m,\u001B[49m\u001B[43m \u001B[49m\u001B[43mextobj\u001B[49m\u001B[38;5;241;43m=\u001B[39;49m\u001B[43mextobj\u001B[49m\u001B[43m)\u001B[49m\n\u001B[1;32m   1682\u001B[0m u \u001B[38;5;241m=\u001B[39m u\u001B[38;5;241m.\u001B[39mastype(result_t, copy\u001B[38;5;241m=\u001B[39m\u001B[38;5;28;01mFalse\u001B[39;00m)\n\u001B[1;32m   1683\u001B[0m s \u001B[38;5;241m=\u001B[39m s\u001B[38;5;241m.\u001B[39mastype(_realType(result_t), copy\u001B[38;5;241m=\u001B[39m\u001B[38;5;28;01mFalse\u001B[39;00m)\n",
      "\u001B[0;31mKeyboardInterrupt\u001B[0m: "
     ]
    }
   ],
   "execution_count": 3
  },
  {
   "metadata": {},
   "cell_type": "markdown",
   "source": "\n",
   "id": "6e5e39ace9d7a752"
  },
  {
   "metadata": {
    "jupyter": {
     "is_executing": true
    },
    "ExecuteTime": {
     "start_time": "2024-07-15T09:39:00.764826Z"
    }
   },
   "cell_type": "code",
   "source": [
    "import matplotlib.pyplot as plt\n",
    "from statsmodels.graphics.tsaplots import plot_acf, plot_pacf\n",
    "\n",
    "data = SWA_data['emanuele']\n",
    "plt.figure(figsize=(12, 6))\n",
    "plt.subplot(121)\n",
    "plot_acf(data, lags=10000, ax=plt.gca())\n",
    "plt.subplot(122)\n",
    "plot_pacf(data, lags=10000, ax=plt.gca())\n",
    "plt.show()"
   ],
   "id": "a5788f8e4622f0dd",
   "outputs": [],
   "execution_count": null
  }
 ],
 "metadata": {
  "kernelspec": {
   "display_name": "Python 3",
   "language": "python",
   "name": "python3"
  },
  "language_info": {
   "codemirror_mode": {
    "name": "ipython",
    "version": 2
   },
   "file_extension": ".py",
   "mimetype": "text/x-python",
   "name": "python",
   "nbconvert_exporter": "python",
   "pygments_lexer": "ipython2",
   "version": "2.7.6"
  }
 },
 "nbformat": 4,
 "nbformat_minor": 5
}
