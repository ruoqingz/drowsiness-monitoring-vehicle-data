{
 "cells": [
  {
   "metadata": {},
   "cell_type": "markdown",
   "source": [
    "Dickey-Fuller Test: Check the stationarity of the time series\n",
    "null hypothesis: the time series is non-stationary\n",
    "if p-value < 0.05, reject the null hypothesis, the time series is stationary"
   ],
   "id": "d67e79cacd068d45"
  },
  {
   "metadata": {
    "ExecuteTime": {
     "end_time": "2024-07-16T07:52:15.302162Z",
     "start_time": "2024-07-16T07:38:47.759421Z"
    }
   },
   "cell_type": "code",
   "source": [
    "from statsmodels.tsa.stattools import adfuller, kpss\n",
    "import json\n",
    "import os\n",
    "\n",
    "os.chdir(\"/Users/ruotsing/PycharmProjects/DMS\")\n",
    "with open('preprocess_data/SWA_data.json', 'r') as f:\n",
    "    SWA_data = json.load(f)\n",
    "    \n",
    "for name in SWA_data.keys():\n",
    "    adf_result = adfuller(SWA_data[name])\n",
    "    kpss_result = kpss(SWA_data[name])\n",
    "    print('-----------ADF test on SWA Data: '+ name + '-----------')\n",
    "    print('ADF Statistic: %f' % adf_result[0])\n",
    "    print('p-value: %f' % adf_result[1])\n",
    "    print('Critical Values:')\n",
    "    for key, value in adf_result[4].items():\n",
    "        print('\\t%s: %.3f' % (key, value))\n",
    "    print('-----------KPSS test on SWA Data: '+ name + '-----------')\n",
    "    print('KPSS Statistic: %f' % kpss_result[0])\n",
    "    print('p-value: %f' % kpss_result[1])\n",
    "    print('Critical Values:')\n",
    "    for key, value in kpss_result[3].items():\n",
    "        print('\\t%s: %.3f' % (key, value))"
   ],
   "id": "dcc96df9051aea2f",
   "outputs": [
    {
     "name": "stderr",
     "output_type": "stream",
     "text": [
      "/var/folders/sf/pzcl3wxn3ndfwtbfl9w667x80000gp/T/ipykernel_31829/1756679905.py:11: InterpolationWarning: The test statistic is outside of the range of p-values available in the\n",
      "look-up table. The actual p-value is greater than the p-value returned.\n",
      "\n",
      "  kpss_result = kpss(SWA_data[name])\n"
     ]
    },
    {
     "name": "stdout",
     "output_type": "stream",
     "text": [
      "-----------ADF test on SWA Data: emanuele-----------\n",
      "ADF Statistic: -41.951323\n",
      "p-value: 0.000000\n",
      "Critical Values:\n",
      "\t1%: -3.430\n",
      "\t5%: -2.862\n",
      "\t10%: -2.567\n",
      "-----------KPSS test on SWA Data: emanuele-----------\n",
      "KPSS Statistic: 0.008321\n",
      "p-value: 0.100000\n",
      "Critical Values:\n",
      "\t10%: 0.347\n",
      "\t5%: 0.463\n",
      "\t2.5%: 0.574\n",
      "\t1%: 0.739\n"
     ]
    },
    {
     "name": "stderr",
     "output_type": "stream",
     "text": [
      "/var/folders/sf/pzcl3wxn3ndfwtbfl9w667x80000gp/T/ipykernel_31829/1756679905.py:11: InterpolationWarning: The test statistic is outside of the range of p-values available in the\n",
      "look-up table. The actual p-value is greater than the p-value returned.\n",
      "\n",
      "  kpss_result = kpss(SWA_data[name])\n"
     ]
    },
    {
     "name": "stdout",
     "output_type": "stream",
     "text": [
      "-----------ADF test on SWA Data: michele-----------\n",
      "ADF Statistic: -38.742363\n",
      "p-value: 0.000000\n",
      "Critical Values:\n",
      "\t1%: -3.430\n",
      "\t5%: -2.862\n",
      "\t10%: -2.567\n",
      "-----------KPSS test on SWA Data: michele-----------\n",
      "KPSS Statistic: 0.005331\n",
      "p-value: 0.100000\n",
      "Critical Values:\n",
      "\t10%: 0.347\n",
      "\t5%: 0.463\n",
      "\t2.5%: 0.574\n",
      "\t1%: 0.739\n"
     ]
    },
    {
     "name": "stderr",
     "output_type": "stream",
     "text": [
      "/var/folders/sf/pzcl3wxn3ndfwtbfl9w667x80000gp/T/ipykernel_31829/1756679905.py:11: InterpolationWarning: The test statistic is outside of the range of p-values available in the\n",
      "look-up table. The actual p-value is greater than the p-value returned.\n",
      "\n",
      "  kpss_result = kpss(SWA_data[name])\n"
     ]
    },
    {
     "name": "stdout",
     "output_type": "stream",
     "text": [
      "-----------ADF test on SWA Data: stefano-----------\n",
      "ADF Statistic: -48.555527\n",
      "p-value: 0.000000\n",
      "Critical Values:\n",
      "\t1%: -3.430\n",
      "\t5%: -2.862\n",
      "\t10%: -2.567\n",
      "-----------KPSS test on SWA Data: stefano-----------\n",
      "KPSS Statistic: 0.028342\n",
      "p-value: 0.100000\n",
      "Critical Values:\n",
      "\t10%: 0.347\n",
      "\t5%: 0.463\n",
      "\t2.5%: 0.574\n",
      "\t1%: 0.739\n"
     ]
    },
    {
     "name": "stderr",
     "output_type": "stream",
     "text": [
      "/var/folders/sf/pzcl3wxn3ndfwtbfl9w667x80000gp/T/ipykernel_31829/1756679905.py:11: InterpolationWarning: The test statistic is outside of the range of p-values available in the\n",
      "look-up table. The actual p-value is greater than the p-value returned.\n",
      "\n",
      "  kpss_result = kpss(SWA_data[name])\n"
     ]
    },
    {
     "name": "stdout",
     "output_type": "stream",
     "text": [
      "-----------ADF test on SWA Data: catia-----------\n",
      "ADF Statistic: -52.162338\n",
      "p-value: 0.000000\n",
      "Critical Values:\n",
      "\t1%: -3.430\n",
      "\t5%: -2.862\n",
      "\t10%: -2.567\n",
      "-----------KPSS test on SWA Data: catia-----------\n",
      "KPSS Statistic: 0.030870\n",
      "p-value: 0.100000\n",
      "Critical Values:\n",
      "\t10%: 0.347\n",
      "\t5%: 0.463\n",
      "\t2.5%: 0.574\n",
      "\t1%: 0.739\n"
     ]
    },
    {
     "name": "stderr",
     "output_type": "stream",
     "text": [
      "/var/folders/sf/pzcl3wxn3ndfwtbfl9w667x80000gp/T/ipykernel_31829/1756679905.py:11: InterpolationWarning: The test statistic is outside of the range of p-values available in the\n",
      "look-up table. The actual p-value is greater than the p-value returned.\n",
      "\n",
      "  kpss_result = kpss(SWA_data[name])\n"
     ]
    },
    {
     "name": "stdout",
     "output_type": "stream",
     "text": [
      "-----------ADF test on SWA Data: giulio-----------\n",
      "ADF Statistic: -52.626133\n",
      "p-value: 0.000000\n",
      "Critical Values:\n",
      "\t1%: -3.430\n",
      "\t5%: -2.862\n",
      "\t10%: -2.567\n",
      "-----------KPSS test on SWA Data: giulio-----------\n",
      "KPSS Statistic: 0.005708\n",
      "p-value: 0.100000\n",
      "Critical Values:\n",
      "\t10%: 0.347\n",
      "\t5%: 0.463\n",
      "\t2.5%: 0.574\n",
      "\t1%: 0.739\n"
     ]
    },
    {
     "name": "stderr",
     "output_type": "stream",
     "text": [
      "/var/folders/sf/pzcl3wxn3ndfwtbfl9w667x80000gp/T/ipykernel_31829/1756679905.py:11: InterpolationWarning: The test statistic is outside of the range of p-values available in the\n",
      "look-up table. The actual p-value is greater than the p-value returned.\n",
      "\n",
      "  kpss_result = kpss(SWA_data[name])\n"
     ]
    },
    {
     "name": "stdout",
     "output_type": "stream",
     "text": [
      "-----------ADF test on SWA Data: vasanth-----------\n",
      "ADF Statistic: -53.552609\n",
      "p-value: 0.000000\n",
      "Critical Values:\n",
      "\t1%: -3.430\n",
      "\t5%: -2.862\n",
      "\t10%: -2.567\n",
      "-----------KPSS test on SWA Data: vasanth-----------\n",
      "KPSS Statistic: 0.004677\n",
      "p-value: 0.100000\n",
      "Critical Values:\n",
      "\t10%: 0.347\n",
      "\t5%: 0.463\n",
      "\t2.5%: 0.574\n",
      "\t1%: 0.739\n",
      "-----------ADF test on SWA Data: gea-----------\n",
      "ADF Statistic: -49.373736\n",
      "p-value: 0.000000\n",
      "Critical Values:\n",
      "\t1%: -3.430\n",
      "\t5%: -2.862\n",
      "\t10%: -2.567\n",
      "-----------KPSS test on SWA Data: gea-----------\n",
      "KPSS Statistic: 0.005316\n",
      "p-value: 0.100000\n",
      "Critical Values:\n",
      "\t10%: 0.347\n",
      "\t5%: 0.463\n",
      "\t2.5%: 0.574\n",
      "\t1%: 0.739\n"
     ]
    },
    {
     "name": "stderr",
     "output_type": "stream",
     "text": [
      "/var/folders/sf/pzcl3wxn3ndfwtbfl9w667x80000gp/T/ipykernel_31829/1756679905.py:11: InterpolationWarning: The test statistic is outside of the range of p-values available in the\n",
      "look-up table. The actual p-value is greater than the p-value returned.\n",
      "\n",
      "  kpss_result = kpss(SWA_data[name])\n"
     ]
    }
   ],
   "execution_count": 9
  },
  {
   "metadata": {},
   "cell_type": "markdown",
   "source": "From the results above, we can see that the p-value of the ADF test is less than 0.05, p-value of KPSS test is more than 0.05, which means that the time series is stationary.",
   "id": "ddf4a977181016a5"
  },
  {
   "metadata": {},
   "cell_type": "markdown",
   "source": "\n",
   "id": "6e5e39ace9d7a752"
  },
  {
   "metadata": {
    "ExecuteTime": {
     "end_time": "2024-07-15T15:44:05.571700Z",
     "start_time": "2024-07-15T09:39:00.764826Z"
    }
   },
   "cell_type": "code",
   "source": [
    "import matplotlib.pyplot as plt\n",
    "from statsmodels.graphics.tsaplots import plot_acf, plot_pacf\n",
    "\n",
    "for name in SWA_data.keys():\n",
    "    data = SWA_data[name]\n",
    "    plt.figure(figsize=(12, 6))\n",
    "    plt.title(name+' ACF and PACF')\n",
    "    plt.subplot(121)\n",
    "    plot_acf(data, lags=2000, ax=plt.gca())\n",
    "    plt.subplot(122)\n",
    "    plot_pacf(data, lags=2000, ax=plt.gca())\n",
    "    plt.show()"
   ],
   "id": "a5788f8e4622f0dd",
   "outputs": [
    {
     "ename": "KeyboardInterrupt",
     "evalue": "",
     "output_type": "error",
     "traceback": [
      "\u001B[0;31m---------------------------------------------------------------------------\u001B[0m",
      "\u001B[0;31mKeyboardInterrupt\u001B[0m                         Traceback (most recent call last)",
      "Cell \u001B[0;32mIn[8], line 9\u001B[0m\n\u001B[1;32m      7\u001B[0m plot_acf(data, lags\u001B[38;5;241m=\u001B[39m\u001B[38;5;241m10000\u001B[39m, ax\u001B[38;5;241m=\u001B[39mplt\u001B[38;5;241m.\u001B[39mgca())\n\u001B[1;32m      8\u001B[0m plt\u001B[38;5;241m.\u001B[39msubplot(\u001B[38;5;241m122\u001B[39m)\n\u001B[0;32m----> 9\u001B[0m \u001B[43mplot_pacf\u001B[49m\u001B[43m(\u001B[49m\u001B[43mdata\u001B[49m\u001B[43m,\u001B[49m\u001B[43m \u001B[49m\u001B[43mlags\u001B[49m\u001B[38;5;241;43m=\u001B[39;49m\u001B[38;5;241;43m10000\u001B[39;49m\u001B[43m,\u001B[49m\u001B[43m \u001B[49m\u001B[43max\u001B[49m\u001B[38;5;241;43m=\u001B[39;49m\u001B[43mplt\u001B[49m\u001B[38;5;241;43m.\u001B[39;49m\u001B[43mgca\u001B[49m\u001B[43m(\u001B[49m\u001B[43m)\u001B[49m\u001B[43m)\u001B[49m\n\u001B[1;32m     10\u001B[0m plt\u001B[38;5;241m.\u001B[39mshow()\n",
      "File \u001B[0;32m~/PycharmProjects/DMS/venv/lib/python3.11/site-packages/statsmodels/graphics/tsaplots.py:355\u001B[0m, in \u001B[0;36mplot_pacf\u001B[0;34m(x, ax, lags, alpha, method, use_vlines, title, zero, vlines_kwargs, **kwargs)\u001B[0m\n\u001B[1;32m    353\u001B[0m     acf_x \u001B[38;5;241m=\u001B[39m pacf(x, nlags\u001B[38;5;241m=\u001B[39mnlags, alpha\u001B[38;5;241m=\u001B[39malpha, method\u001B[38;5;241m=\u001B[39mmethod)\n\u001B[1;32m    354\u001B[0m \u001B[38;5;28;01melse\u001B[39;00m:\n\u001B[0;32m--> 355\u001B[0m     acf_x, confint \u001B[38;5;241m=\u001B[39m \u001B[43mpacf\u001B[49m\u001B[43m(\u001B[49m\u001B[43mx\u001B[49m\u001B[43m,\u001B[49m\u001B[43m \u001B[49m\u001B[43mnlags\u001B[49m\u001B[38;5;241;43m=\u001B[39;49m\u001B[43mnlags\u001B[49m\u001B[43m,\u001B[49m\u001B[43m \u001B[49m\u001B[43malpha\u001B[49m\u001B[38;5;241;43m=\u001B[39;49m\u001B[43malpha\u001B[49m\u001B[43m,\u001B[49m\u001B[43m \u001B[49m\u001B[43mmethod\u001B[49m\u001B[38;5;241;43m=\u001B[39;49m\u001B[43mmethod\u001B[49m\u001B[43m)\u001B[49m\n\u001B[1;32m    357\u001B[0m _plot_corr(\n\u001B[1;32m    358\u001B[0m     ax,\n\u001B[1;32m    359\u001B[0m     title,\n\u001B[0;32m   (...)\u001B[0m\n\u001B[1;32m    366\u001B[0m     \u001B[38;5;241m*\u001B[39m\u001B[38;5;241m*\u001B[39mkwargs,\n\u001B[1;32m    367\u001B[0m )\n\u001B[1;32m    369\u001B[0m \u001B[38;5;28;01mreturn\u001B[39;00m fig\n",
      "File \u001B[0;32m~/PycharmProjects/DMS/venv/lib/python3.11/site-packages/statsmodels/tsa/stattools.py:1051\u001B[0m, in \u001B[0;36mpacf\u001B[0;34m(x, nlags, method, alpha)\u001B[0m\n\u001B[1;32m   1049\u001B[0m     ret \u001B[38;5;241m=\u001B[39m pacf_yw(x, nlags\u001B[38;5;241m=\u001B[39mnlags, method\u001B[38;5;241m=\u001B[39m\u001B[38;5;124m\"\u001B[39m\u001B[38;5;124madjusted\u001B[39m\u001B[38;5;124m\"\u001B[39m)\n\u001B[1;32m   1050\u001B[0m \u001B[38;5;28;01melif\u001B[39;00m method \u001B[38;5;129;01min\u001B[39;00m (\u001B[38;5;124m\"\u001B[39m\u001B[38;5;124mywm\u001B[39m\u001B[38;5;124m\"\u001B[39m, \u001B[38;5;124m\"\u001B[39m\u001B[38;5;124mywmle\u001B[39m\u001B[38;5;124m\"\u001B[39m, \u001B[38;5;124m\"\u001B[39m\u001B[38;5;124myw_mle\u001B[39m\u001B[38;5;124m\"\u001B[39m):\n\u001B[0;32m-> 1051\u001B[0m     ret \u001B[38;5;241m=\u001B[39m \u001B[43mpacf_yw\u001B[49m\u001B[43m(\u001B[49m\u001B[43mx\u001B[49m\u001B[43m,\u001B[49m\u001B[43m \u001B[49m\u001B[43mnlags\u001B[49m\u001B[38;5;241;43m=\u001B[39;49m\u001B[43mnlags\u001B[49m\u001B[43m,\u001B[49m\u001B[43m \u001B[49m\u001B[43mmethod\u001B[49m\u001B[38;5;241;43m=\u001B[39;49m\u001B[38;5;124;43m\"\u001B[39;49m\u001B[38;5;124;43mmle\u001B[39;49m\u001B[38;5;124;43m\"\u001B[39;49m\u001B[43m)\u001B[49m\n\u001B[1;32m   1052\u001B[0m \u001B[38;5;28;01melif\u001B[39;00m method \u001B[38;5;129;01min\u001B[39;00m (\u001B[38;5;124m\"\u001B[39m\u001B[38;5;124mld\u001B[39m\u001B[38;5;124m\"\u001B[39m, \u001B[38;5;124m\"\u001B[39m\u001B[38;5;124mlda\u001B[39m\u001B[38;5;124m\"\u001B[39m, \u001B[38;5;124m\"\u001B[39m\u001B[38;5;124mldadjusted\u001B[39m\u001B[38;5;124m\"\u001B[39m, \u001B[38;5;124m\"\u001B[39m\u001B[38;5;124mld_adjusted\u001B[39m\u001B[38;5;124m\"\u001B[39m):\n\u001B[1;32m   1053\u001B[0m     acv \u001B[38;5;241m=\u001B[39m acovf(x, adjusted\u001B[38;5;241m=\u001B[39m\u001B[38;5;28;01mTrue\u001B[39;00m, fft\u001B[38;5;241m=\u001B[39m\u001B[38;5;28;01mFalse\u001B[39;00m)\n",
      "File \u001B[0;32m~/PycharmProjects/DMS/venv/lib/python3.11/site-packages/statsmodels/tsa/stattools.py:761\u001B[0m, in \u001B[0;36mpacf_yw\u001B[0;34m(x, nlags, method)\u001B[0m\n\u001B[1;32m    759\u001B[0m     warnings\u001B[38;5;241m.\u001B[39msimplefilter(\u001B[38;5;124m\"\u001B[39m\u001B[38;5;124monce\u001B[39m\u001B[38;5;124m\"\u001B[39m, ValueWarning)\n\u001B[1;32m    760\u001B[0m     \u001B[38;5;28;01mfor\u001B[39;00m k \u001B[38;5;129;01min\u001B[39;00m \u001B[38;5;28mrange\u001B[39m(\u001B[38;5;241m1\u001B[39m, nlags \u001B[38;5;241m+\u001B[39m \u001B[38;5;241m1\u001B[39m):\n\u001B[0;32m--> 761\u001B[0m         pacf\u001B[38;5;241m.\u001B[39mappend(\u001B[43myule_walker\u001B[49m\u001B[43m(\u001B[49m\u001B[43mx\u001B[49m\u001B[43m,\u001B[49m\u001B[43m \u001B[49m\u001B[43mk\u001B[49m\u001B[43m,\u001B[49m\u001B[43m \u001B[49m\u001B[43mmethod\u001B[49m\u001B[38;5;241;43m=\u001B[39;49m\u001B[43mmethod\u001B[49m\u001B[43m)\u001B[49m[\u001B[38;5;241m0\u001B[39m][\u001B[38;5;241m-\u001B[39m\u001B[38;5;241m1\u001B[39m])\n\u001B[1;32m    762\u001B[0m \u001B[38;5;28;01mreturn\u001B[39;00m np\u001B[38;5;241m.\u001B[39marray(pacf)\n",
      "File \u001B[0;32m~/PycharmProjects/DMS/venv/lib/python3.11/site-packages/statsmodels/regression/linear_model.py:1488\u001B[0m, in \u001B[0;36myule_walker\u001B[0;34m(x, order, method, df, inv, demean)\u001B[0m\n\u001B[1;32m   1485\u001B[0m R \u001B[38;5;241m=\u001B[39m toeplitz(r[:\u001B[38;5;241m-\u001B[39m\u001B[38;5;241m1\u001B[39m])\n\u001B[1;32m   1487\u001B[0m \u001B[38;5;28;01mtry\u001B[39;00m:\n\u001B[0;32m-> 1488\u001B[0m     rho \u001B[38;5;241m=\u001B[39m \u001B[43mnp\u001B[49m\u001B[38;5;241;43m.\u001B[39;49m\u001B[43mlinalg\u001B[49m\u001B[38;5;241;43m.\u001B[39;49m\u001B[43msolve\u001B[49m\u001B[43m(\u001B[49m\u001B[43mR\u001B[49m\u001B[43m,\u001B[49m\u001B[43m \u001B[49m\u001B[43mr\u001B[49m\u001B[43m[\u001B[49m\u001B[38;5;241;43m1\u001B[39;49m\u001B[43m:\u001B[49m\u001B[43m]\u001B[49m\u001B[43m)\u001B[49m\n\u001B[1;32m   1489\u001B[0m \u001B[38;5;28;01mexcept\u001B[39;00m np\u001B[38;5;241m.\u001B[39mlinalg\u001B[38;5;241m.\u001B[39mLinAlgError \u001B[38;5;28;01mas\u001B[39;00m err:\n\u001B[1;32m   1490\u001B[0m     \u001B[38;5;28;01mif\u001B[39;00m \u001B[38;5;124m'\u001B[39m\u001B[38;5;124mSingular matrix\u001B[39m\u001B[38;5;124m'\u001B[39m \u001B[38;5;129;01min\u001B[39;00m \u001B[38;5;28mstr\u001B[39m(err):\n",
      "File \u001B[0;32m~/PycharmProjects/DMS/venv/lib/python3.11/site-packages/numpy/linalg/linalg.py:409\u001B[0m, in \u001B[0;36msolve\u001B[0;34m(a, b)\u001B[0m\n\u001B[1;32m    407\u001B[0m signature \u001B[38;5;241m=\u001B[39m \u001B[38;5;124m'\u001B[39m\u001B[38;5;124mDD->D\u001B[39m\u001B[38;5;124m'\u001B[39m \u001B[38;5;28;01mif\u001B[39;00m isComplexType(t) \u001B[38;5;28;01melse\u001B[39;00m \u001B[38;5;124m'\u001B[39m\u001B[38;5;124mdd->d\u001B[39m\u001B[38;5;124m'\u001B[39m\n\u001B[1;32m    408\u001B[0m extobj \u001B[38;5;241m=\u001B[39m get_linalg_error_extobj(_raise_linalgerror_singular)\n\u001B[0;32m--> 409\u001B[0m r \u001B[38;5;241m=\u001B[39m \u001B[43mgufunc\u001B[49m\u001B[43m(\u001B[49m\u001B[43ma\u001B[49m\u001B[43m,\u001B[49m\u001B[43m \u001B[49m\u001B[43mb\u001B[49m\u001B[43m,\u001B[49m\u001B[43m \u001B[49m\u001B[43msignature\u001B[49m\u001B[38;5;241;43m=\u001B[39;49m\u001B[43msignature\u001B[49m\u001B[43m,\u001B[49m\u001B[43m \u001B[49m\u001B[43mextobj\u001B[49m\u001B[38;5;241;43m=\u001B[39;49m\u001B[43mextobj\u001B[49m\u001B[43m)\u001B[49m\n\u001B[1;32m    411\u001B[0m \u001B[38;5;28;01mreturn\u001B[39;00m wrap(r\u001B[38;5;241m.\u001B[39mastype(result_t, copy\u001B[38;5;241m=\u001B[39m\u001B[38;5;28;01mFalse\u001B[39;00m))\n",
      "\u001B[0;31mKeyboardInterrupt\u001B[0m: "
     ]
    },
    {
     "data": {
      "text/plain": [
       "<Figure size 1200x600 with 2 Axes>"
      ],
      "image/png": "[encoded data removed]"
     },
     "metadata": {},
     "output_type": "display_data"
    }
   ],
   "execution_count": 8
  }
 ],
 "metadata": {
  "kernelspec": {
   "display_name": "Python 3",
   "language": "python",
   "name": "python3"
  },
  "language_info": {
   "codemirror_mode": {
    "name": "ipython",
    "version": 2
   },
   "file_extension": ".py",
   "mimetype": "text/x-python",
   "name": "python",
   "nbconvert_exporter": "python",
   "pygments_lexer": "ipython2",
   "version": "2.7.6"
  }
 },
 "nbformat": 4,
 "nbformat_minor": 5
}
