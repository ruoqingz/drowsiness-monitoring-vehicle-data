{
 "cells": [
  {
   "cell_type": "code",
   "id": "initial_id",
   "metadata": {
    "collapsed": true,
    "ExecuteTime": {
     "end_time": "2024-05-10T13:26:05.743115Z",
     "start_time": "2024-05-10T13:26:05.667321Z"
    }
   },
   "source": [
    "import pyAgrum as gum\n",
    "import pyAgrum.lib.notebook as gnb\n",
    "import pyAgrum.lib.dynamicBN as gdyn"
   ],
   "outputs": [
    {
     "name": "stdout",
     "output_type": "stream",
     "text": [
      "Graphviz is not installed. \n",
      "  Please install this program in order to visualize graphical models in pyAgrum. \n",
      "  See https://graphviz.org/download/\n"
     ]
    }
   ],
   "execution_count": 1
  },
  {
   "metadata": {
    "ExecuteTime": {
     "end_time": "2024-05-10T13:34:35.609727Z",
     "start_time": "2024-05-10T13:34:35.418086Z"
    }
   },
   "cell_type": "code",
   "source": [
    "twodbn=gum.BayesNet()\n",
    "x0,y0,xt,yt=[twodbn.add(gum.LabelizedVariable(s,s,4))\n",
    "                   for s in [\"x0\",\"y0\",\"xt\",\"yt\"]]\n",
    "twodbn.addArc(x0,xt)\n",
    "twodbn.addArc(x0,y0)\n",
    "twodbn.addArc(xt,yt)\n",
    "\n",
    "twodbn.generateCPTs()\n",
    "gdyn.showTimeSlices(twodbn)"
   ],
   "id": "6f0012513b2452c2",
   "outputs": [
    {
     "data": {
      "text/plain": [
       "<IPython.core.display.SVG object>"
      ],
      "image/svg+xml": "<svg xmlns=\"http://www.w3.org/2000/svg\" xmlns:xlink=\"http://www.w3.org/1999/xlink\" width=\"196pt\" height=\"155pt\" viewBox=\"0.00 0.00 196.00 155.00\">\n<g id=\"graph0\" class=\"graph\" transform=\"scale(1 1) rotate(0) translate(4 151)\">\n<title>G</title>\n<g id=\"clust1\" class=\"cluster\">\n<title>cluster_0</title>\n<polygon fill=\"#dddddd\" stroke=\"black\" points=\"1,-8 1,-139 85,-139 85,-8 1,-8\"/>\n<text text-anchor=\"middle\" x=\"43\" y=\"-121.7\" font-family=\"Times,serif\" font-size=\"14.00\">Time slice 0</text>\n</g>\n<g id=\"clust2\" class=\"cluster\">\n<title>cluster_t</title>\n<polygon fill=\"#dddddd\" stroke=\"black\" points=\"105,-8 105,-139 186,-139 186,-8 105,-8\"/>\n<text text-anchor=\"middle\" x=\"145.5\" y=\"-121.7\" font-family=\"Times,serif\" font-size=\"14.00\">Time slice t</text>\n</g>\n<!-- x0 -->\n<g id=\"node1\" class=\"node\">\n<title>x0</title>\n<ellipse fill=\"white\" stroke=\"#000000\" cx=\"43\" cy=\"-34\" rx=\"27\" ry=\"18\"/>\n<text text-anchor=\"middle\" x=\"43\" y=\"-28.95\" font-family=\"Times,serif\" font-size=\"14.00\" fill=\"#4a4a4a\">x</text>\n</g>\n<!-- y0 -->\n<g id=\"node2\" class=\"node\">\n<title>y0</title>\n<ellipse fill=\"white\" stroke=\"#000000\" cx=\"43\" cy=\"-88\" rx=\"27\" ry=\"18\"/>\n<text text-anchor=\"middle\" x=\"43\" y=\"-82.95\" font-family=\"Times,serif\" font-size=\"14.00\" fill=\"#4a4a4a\">y</text>\n</g>\n<!-- x0&#45;&gt;y0 -->\n<g id=\"edge1\" class=\"edge\">\n<title>x0-&gt;y0</title>\n<path fill=\"none\" stroke=\"blue\" d=\"M43,-52.28C43,-52.28 43,-58.22 43,-58.22\"/>\n<polygon fill=\"blue\" stroke=\"blue\" points=\"39.5,-58.22 43,-68.22 46.5,-58.22 39.5,-58.22\"/>\n</g>\n<!-- xt -->\n<g id=\"node3\" class=\"node\">\n<title>xt</title>\n<ellipse fill=\"white\" stroke=\"#000000\" cx=\"145\" cy=\"-34\" rx=\"27\" ry=\"18\"/>\n<text text-anchor=\"middle\" x=\"145\" y=\"-28.95\" font-family=\"Times,serif\" font-size=\"14.00\" fill=\"#4a4a4a\">x</text>\n</g>\n<!-- x0&#45;&gt;xt -->\n<g id=\"edge2\" class=\"edge\">\n<title>x0-&gt;xt</title>\n<path fill=\"none\" stroke=\"blue\" d=\"M69,-28C69,-28 107.53,-28 107.53,-28\"/>\n<polygon fill=\"blue\" stroke=\"blue\" points=\"107.53,-31.5 117.53,-28 107.53,-24.5 107.53,-31.5\"/>\n</g>\n<!-- x0&#45;&gt;xt -->\n<!-- yt -->\n<g id=\"node4\" class=\"node\">\n<title>yt</title>\n<ellipse fill=\"white\" stroke=\"#000000\" cx=\"145\" cy=\"-88\" rx=\"27\" ry=\"18\"/>\n<text text-anchor=\"middle\" x=\"145\" y=\"-82.95\" font-family=\"Times,serif\" font-size=\"14.00\" fill=\"#4a4a4a\">y</text>\n</g>\n<!-- y0&#45;&gt;yt -->\n<!-- xt&#45;&gt;yt -->\n<g id=\"edge3\" class=\"edge\">\n<title>xt-&gt;yt</title>\n<path fill=\"none\" stroke=\"blue\" d=\"M145,-52.28C145,-52.28 145,-58.22 145,-58.22\"/>\n<polygon fill=\"blue\" stroke=\"blue\" points=\"141.5,-58.22 145,-68.22 148.5,-58.22 141.5,-58.22\"/>\n</g>\n</g>\n</svg>"
     },
     "metadata": {},
     "output_type": "display_data"
    }
   ],
   "execution_count": 9
  },
  {
   "metadata": {
    "ExecuteTime": {
     "end_time": "2024-05-10T13:35:37.387692Z",
     "start_time": "2024-05-10T13:35:37.170539Z"
    }
   },
   "cell_type": "code",
   "source": [
    "# unroll the TBN for T=5\n",
    "T=5\n",
    "dbn=gdyn.unroll2TBN(twodbn,T)\n",
    "gdyn.showTimeSlices(dbn,size=\"10\")"
   ],
   "id": "8024421e55e6094",
   "outputs": [
    {
     "data": {
      "text/plain": [
       "<IPython.core.display.SVG object>"
      ],
      "image/svg+xml": "<svg xmlns=\"http://www.w3.org/2000/svg\" xmlns:xlink=\"http://www.w3.org/1999/xlink\" width=\"510pt\" height=\"155pt\" viewBox=\"0.00 0.00 510.00 155.00\">\n<g id=\"graph0\" class=\"graph\" transform=\"scale(1 1) rotate(0) translate(4 151)\">\n<title>G</title>\n<g id=\"clust1\" class=\"cluster\">\n<title>cluster_0</title>\n<polygon fill=\"#dddddd\" stroke=\"black\" points=\"1,-8 1,-139 85,-139 85,-8 1,-8\"/>\n<text text-anchor=\"middle\" x=\"43\" y=\"-121.7\" font-family=\"Times,serif\" font-size=\"14.00\">Time slice 0</text>\n</g>\n<g id=\"clust2\" class=\"cluster\">\n<title>cluster_1</title>\n<polygon fill=\"#dddddd\" stroke=\"black\" points=\"105,-8 105,-139 189,-139 189,-8 105,-8\"/>\n<text text-anchor=\"middle\" x=\"147\" y=\"-121.7\" font-family=\"Times,serif\" font-size=\"14.00\">Time slice 1</text>\n</g>\n<g id=\"clust3\" class=\"cluster\">\n<title>cluster_2</title>\n<polygon fill=\"#dddddd\" stroke=\"black\" points=\"209,-8 209,-139 293,-139 293,-8 209,-8\"/>\n<text text-anchor=\"middle\" x=\"251\" y=\"-121.7\" font-family=\"Times,serif\" font-size=\"14.00\">Time slice 2</text>\n</g>\n<g id=\"clust4\" class=\"cluster\">\n<title>cluster_3</title>\n<polygon fill=\"#dddddd\" stroke=\"black\" points=\"313,-8 313,-139 397,-139 397,-8 313,-8\"/>\n<text text-anchor=\"middle\" x=\"355\" y=\"-121.7\" font-family=\"Times,serif\" font-size=\"14.00\">Time slice 3</text>\n</g>\n<g id=\"clust5\" class=\"cluster\">\n<title>cluster_4</title>\n<polygon fill=\"#dddddd\" stroke=\"black\" points=\"417,-8 417,-139 501,-139 501,-8 417,-8\"/>\n<text text-anchor=\"middle\" x=\"459\" y=\"-121.7\" font-family=\"Times,serif\" font-size=\"14.00\">Time slice 4</text>\n</g>\n<!-- x0 -->\n<g id=\"node1\" class=\"node\">\n<title>x0</title>\n<ellipse fill=\"white\" stroke=\"#000000\" cx=\"43\" cy=\"-34\" rx=\"27\" ry=\"18\"/>\n<text text-anchor=\"middle\" x=\"43\" y=\"-28.95\" font-family=\"Times,serif\" font-size=\"14.00\" fill=\"#4a4a4a\">x</text>\n</g>\n<!-- y0 -->\n<g id=\"node2\" class=\"node\">\n<title>y0</title>\n<ellipse fill=\"white\" stroke=\"#000000\" cx=\"43\" cy=\"-88\" rx=\"27\" ry=\"18\"/>\n<text text-anchor=\"middle\" x=\"43\" y=\"-82.95\" font-family=\"Times,serif\" font-size=\"14.00\" fill=\"#4a4a4a\">y</text>\n</g>\n<!-- x0&#45;&gt;y0 -->\n<g id=\"edge1\" class=\"edge\">\n<title>x0-&gt;y0</title>\n<path fill=\"none\" stroke=\"blue\" d=\"M43,-52.28C43,-52.28 43,-58.22 43,-58.22\"/>\n<polygon fill=\"blue\" stroke=\"blue\" points=\"39.5,-58.22 43,-68.22 46.5,-58.22 39.5,-58.22\"/>\n</g>\n<!-- x1 -->\n<g id=\"node3\" class=\"node\">\n<title>x1</title>\n<ellipse fill=\"white\" stroke=\"#000000\" cx=\"147\" cy=\"-34\" rx=\"27\" ry=\"18\"/>\n<text text-anchor=\"middle\" x=\"147\" y=\"-28.95\" font-family=\"Times,serif\" font-size=\"14.00\" fill=\"#4a4a4a\">x</text>\n</g>\n<!-- x0&#45;&gt;x1 -->\n<g id=\"edge6\" class=\"edge\">\n<title>x0-&gt;x1</title>\n<path fill=\"none\" stroke=\"blue\" d=\"M68.98,-28C68.98,-28 109.48,-28 109.48,-28\"/>\n<polygon fill=\"blue\" stroke=\"blue\" points=\"109.48,-31.5 119.48,-28 109.48,-24.5 109.48,-31.5\"/>\n</g>\n<!-- x0&#45;&gt;x1 -->\n<!-- y1 -->\n<g id=\"node4\" class=\"node\">\n<title>y1</title>\n<ellipse fill=\"white\" stroke=\"#000000\" cx=\"147\" cy=\"-88\" rx=\"27\" ry=\"18\"/>\n<text text-anchor=\"middle\" x=\"147\" y=\"-82.95\" font-family=\"Times,serif\" font-size=\"14.00\" fill=\"#4a4a4a\">y</text>\n</g>\n<!-- y0&#45;&gt;y1 -->\n<!-- x1&#45;&gt;y1 -->\n<g id=\"edge7\" class=\"edge\">\n<title>x1-&gt;y1</title>\n<path fill=\"none\" stroke=\"blue\" d=\"M147,-52.28C147,-52.28 147,-58.22 147,-58.22\"/>\n<polygon fill=\"blue\" stroke=\"blue\" points=\"143.5,-58.22 147,-68.22 150.5,-58.22 143.5,-58.22\"/>\n</g>\n<!-- x2 -->\n<g id=\"node5\" class=\"node\">\n<title>x2</title>\n<ellipse fill=\"white\" stroke=\"#000000\" cx=\"251\" cy=\"-34\" rx=\"27\" ry=\"18\"/>\n<text text-anchor=\"middle\" x=\"251\" y=\"-28.95\" font-family=\"Times,serif\" font-size=\"14.00\" fill=\"#4a4a4a\">x</text>\n</g>\n<!-- x1&#45;&gt;x2 -->\n<g id=\"edge4\" class=\"edge\">\n<title>x1-&gt;x2</title>\n<path fill=\"none\" stroke=\"blue\" d=\"M172.98,-40C172.98,-40 213.48,-40 213.48,-40\"/>\n<polygon fill=\"blue\" stroke=\"blue\" points=\"213.48,-43.5 223.48,-40 213.48,-36.5 213.48,-43.5\"/>\n</g>\n<!-- x1&#45;&gt;x2 -->\n<!-- y2 -->\n<g id=\"node6\" class=\"node\">\n<title>y2</title>\n<ellipse fill=\"white\" stroke=\"#000000\" cx=\"251\" cy=\"-88\" rx=\"27\" ry=\"18\"/>\n<text text-anchor=\"middle\" x=\"251\" y=\"-82.95\" font-family=\"Times,serif\" font-size=\"14.00\" fill=\"#4a4a4a\">y</text>\n</g>\n<!-- y1&#45;&gt;y2 -->\n<!-- x2&#45;&gt;y2 -->\n<g id=\"edge3\" class=\"edge\">\n<title>x2-&gt;y2</title>\n<path fill=\"none\" stroke=\"blue\" d=\"M251,-52.28C251,-52.28 251,-58.22 251,-58.22\"/>\n<polygon fill=\"blue\" stroke=\"blue\" points=\"247.5,-58.22 251,-68.22 254.5,-58.22 247.5,-58.22\"/>\n</g>\n<!-- x3 -->\n<g id=\"node7\" class=\"node\">\n<title>x3</title>\n<ellipse fill=\"white\" stroke=\"#000000\" cx=\"355\" cy=\"-34\" rx=\"27\" ry=\"18\"/>\n<text text-anchor=\"middle\" x=\"355\" y=\"-28.95\" font-family=\"Times,serif\" font-size=\"14.00\" fill=\"#4a4a4a\">x</text>\n</g>\n<!-- x2&#45;&gt;x3 -->\n<g id=\"edge2\" class=\"edge\">\n<title>x2-&gt;x3</title>\n<path fill=\"none\" stroke=\"blue\" d=\"M276.98,-28C276.98,-28 317.48,-28 317.48,-28\"/>\n<polygon fill=\"blue\" stroke=\"blue\" points=\"317.48,-31.5 327.48,-28 317.48,-24.5 317.48,-31.5\"/>\n</g>\n<!-- x2&#45;&gt;x3 -->\n<!-- y3 -->\n<g id=\"node8\" class=\"node\">\n<title>y3</title>\n<ellipse fill=\"white\" stroke=\"#000000\" cx=\"355\" cy=\"-88\" rx=\"27\" ry=\"18\"/>\n<text text-anchor=\"middle\" x=\"355\" y=\"-82.95\" font-family=\"Times,serif\" font-size=\"14.00\" fill=\"#4a4a4a\">y</text>\n</g>\n<!-- y2&#45;&gt;y3 -->\n<!-- x3&#45;&gt;y3 -->\n<g id=\"edge8\" class=\"edge\">\n<title>x3-&gt;y3</title>\n<path fill=\"none\" stroke=\"blue\" d=\"M355,-52.28C355,-52.28 355,-58.22 355,-58.22\"/>\n<polygon fill=\"blue\" stroke=\"blue\" points=\"351.5,-58.22 355,-68.22 358.5,-58.22 351.5,-58.22\"/>\n</g>\n<!-- x4 -->\n<g id=\"node9\" class=\"node\">\n<title>x4</title>\n<ellipse fill=\"white\" stroke=\"#000000\" cx=\"459\" cy=\"-34\" rx=\"27\" ry=\"18\"/>\n<text text-anchor=\"middle\" x=\"459\" y=\"-28.95\" font-family=\"Times,serif\" font-size=\"14.00\" fill=\"#4a4a4a\">x</text>\n</g>\n<!-- x3&#45;&gt;x4 -->\n<g id=\"edge5\" class=\"edge\">\n<title>x3-&gt;x4</title>\n<path fill=\"none\" stroke=\"blue\" d=\"M380.98,-28C380.98,-28 421.48,-28 421.48,-28\"/>\n<polygon fill=\"blue\" stroke=\"blue\" points=\"421.48,-31.5 431.48,-28 421.48,-24.5 421.48,-31.5\"/>\n</g>\n<!-- x3&#45;&gt;x4 -->\n<!-- y4 -->\n<g id=\"node10\" class=\"node\">\n<title>y4</title>\n<ellipse fill=\"white\" stroke=\"#000000\" cx=\"459\" cy=\"-88\" rx=\"27\" ry=\"18\"/>\n<text text-anchor=\"middle\" x=\"459\" y=\"-82.95\" font-family=\"Times,serif\" font-size=\"14.00\" fill=\"#4a4a4a\">y</text>\n</g>\n<!-- y3&#45;&gt;y4 -->\n<!-- x4&#45;&gt;y4 -->\n<g id=\"edge9\" class=\"edge\">\n<title>x4-&gt;y4</title>\n<path fill=\"none\" stroke=\"blue\" d=\"M459,-52.28C459,-52.28 459,-58.22 459,-58.22\"/>\n<polygon fill=\"blue\" stroke=\"blue\" points=\"455.5,-58.22 459,-68.22 462.5,-58.22 455.5,-58.22\"/>\n</g>\n</g>\n</svg>"
     },
     "metadata": {},
     "output_type": "display_data"
    }
   ],
   "execution_count": 10
  },
  {
   "metadata": {
    "ExecuteTime": {
     "end_time": "2024-05-10T13:36:44.173578Z",
     "start_time": "2024-05-10T13:36:44.124448Z"
    }
   },
   "cell_type": "code",
   "source": [
    "gnb.flow.clear()\n",
    "for i in range(T):\n",
    "    gnb.flow.add_html(gnb.getPosterior(dbn,target=\"d{}\".format(i),evs={}),\"$P(d{})$\".format(i))\n",
    "gnb.flow.display()"
   ],
   "id": "631ec02e22a6f4ee",
   "outputs": [
    {
     "ename": "NotFound",
     "evalue": "[pyAgrum] Object not found: No element with the key <d0>",
     "output_type": "error",
     "traceback": [
      "\u001B[0;31m---------------------------------------------------------------------------\u001B[0m",
      "\u001B[0;31mNotFound\u001B[0m                                  Traceback (most recent call last)",
      "\u001B[0;32m/var/folders/sf/pzcl3wxn3ndfwtbfl9w667x80000gp/T/ipykernel_74252/673869494.py\u001B[0m in \u001B[0;36m?\u001B[0;34m()\u001B[0m\n\u001B[1;32m      1\u001B[0m \u001B[0mgnb\u001B[0m\u001B[0;34m.\u001B[0m\u001B[0mflow\u001B[0m\u001B[0;34m.\u001B[0m\u001B[0mclear\u001B[0m\u001B[0;34m(\u001B[0m\u001B[0;34m)\u001B[0m\u001B[0;34m\u001B[0m\u001B[0;34m\u001B[0m\u001B[0m\n\u001B[1;32m      2\u001B[0m \u001B[0;32mfor\u001B[0m \u001B[0mi\u001B[0m \u001B[0;32min\u001B[0m \u001B[0mrange\u001B[0m\u001B[0;34m(\u001B[0m\u001B[0mT\u001B[0m\u001B[0;34m)\u001B[0m\u001B[0;34m:\u001B[0m\u001B[0;34m\u001B[0m\u001B[0;34m\u001B[0m\u001B[0m\n\u001B[0;32m----> 3\u001B[0;31m     \u001B[0mgnb\u001B[0m\u001B[0;34m.\u001B[0m\u001B[0mflow\u001B[0m\u001B[0;34m.\u001B[0m\u001B[0madd_html\u001B[0m\u001B[0;34m(\u001B[0m\u001B[0mgnb\u001B[0m\u001B[0;34m.\u001B[0m\u001B[0mgetPosterior\u001B[0m\u001B[0;34m(\u001B[0m\u001B[0mdbn\u001B[0m\u001B[0;34m,\u001B[0m\u001B[0mtarget\u001B[0m\u001B[0;34m=\u001B[0m\u001B[0;34m\"d{}\"\u001B[0m\u001B[0;34m.\u001B[0m\u001B[0mformat\u001B[0m\u001B[0;34m(\u001B[0m\u001B[0mi\u001B[0m\u001B[0;34m)\u001B[0m\u001B[0;34m,\u001B[0m\u001B[0mevs\u001B[0m\u001B[0;34m=\u001B[0m\u001B[0;34m{\u001B[0m\u001B[0;34m}\u001B[0m\u001B[0;34m)\u001B[0m\u001B[0;34m,\u001B[0m\u001B[0;34m\"$P(d{})$\"\u001B[0m\u001B[0;34m.\u001B[0m\u001B[0mformat\u001B[0m\u001B[0;34m(\u001B[0m\u001B[0mi\u001B[0m\u001B[0;34m)\u001B[0m\u001B[0;34m)\u001B[0m\u001B[0;34m\u001B[0m\u001B[0;34m\u001B[0m\u001B[0m\n\u001B[0m\u001B[1;32m      4\u001B[0m \u001B[0mgnb\u001B[0m\u001B[0;34m.\u001B[0m\u001B[0mflow\u001B[0m\u001B[0;34m.\u001B[0m\u001B[0mdisplay\u001B[0m\u001B[0;34m(\u001B[0m\u001B[0;34m)\u001B[0m\u001B[0;34m\u001B[0m\u001B[0;34m\u001B[0m\u001B[0m\n",
      "\u001B[0;32m~/PycharmProjects/DMS/venv/lib/python3.11/site-packages/pyAgrum/lib/notebook.py\u001B[0m in \u001B[0;36m?\u001B[0;34m(bn, evs, target)\u001B[0m\n\u001B[1;32m    643\u001B[0m   \u001B[0mReturns\u001B[0m\u001B[0;34m\u001B[0m\u001B[0;34m\u001B[0m\u001B[0m\n\u001B[1;32m    644\u001B[0m   \u001B[0;34m-\u001B[0m\u001B[0;34m-\u001B[0m\u001B[0;34m-\u001B[0m\u001B[0;34m-\u001B[0m\u001B[0;34m-\u001B[0m\u001B[0;34m-\u001B[0m\u001B[0;34m\u001B[0m\u001B[0;34m\u001B[0m\u001B[0m\n\u001B[1;32m    645\u001B[0m     \u001B[0mthe\u001B[0m \u001B[0mmatplotlib\u001B[0m \u001B[0mgraph\u001B[0m\u001B[0;34m\u001B[0m\u001B[0;34m\u001B[0m\u001B[0m\n\u001B[1;32m    646\u001B[0m   \"\"\"\n\u001B[0;32m--> 647\u001B[0;31m   \u001B[0mfig\u001B[0m \u001B[0;34m=\u001B[0m \u001B[0mproba2histo\u001B[0m\u001B[0;34m(\u001B[0m\u001B[0mgum\u001B[0m\u001B[0;34m.\u001B[0m\u001B[0mgetPosterior\u001B[0m\u001B[0;34m(\u001B[0m\u001B[0mbn\u001B[0m\u001B[0;34m,\u001B[0m \u001B[0mevs\u001B[0m\u001B[0;34m=\u001B[0m\u001B[0mevs\u001B[0m\u001B[0;34m,\u001B[0m \u001B[0mtarget\u001B[0m\u001B[0;34m=\u001B[0m\u001B[0mtarget\u001B[0m\u001B[0;34m)\u001B[0m\u001B[0;34m)\u001B[0m\u001B[0;34m\u001B[0m\u001B[0;34m\u001B[0m\u001B[0m\n\u001B[0m\u001B[1;32m    648\u001B[0m   \u001B[0mplt\u001B[0m\u001B[0;34m.\u001B[0m\u001B[0mclose\u001B[0m\u001B[0;34m(\u001B[0m\u001B[0;34m)\u001B[0m\u001B[0;34m\u001B[0m\u001B[0;34m\u001B[0m\u001B[0m\n\u001B[1;32m    649\u001B[0m   \u001B[0;32mreturn\u001B[0m \u001B[0m_getMatplotFig\u001B[0m\u001B[0;34m(\u001B[0m\u001B[0mfig\u001B[0m\u001B[0;34m)\u001B[0m\u001B[0;34m\u001B[0m\u001B[0;34m\u001B[0m\u001B[0m\n",
      "\u001B[0;32m~/PycharmProjects/DMS/venv/lib/python3.11/site-packages/pyAgrum/pyAgrum.py\u001B[0m in \u001B[0;36m?\u001B[0;34m(model, target, evs)\u001B[0m\n\u001B[1;32m  29353\u001B[0m     \u001B[0;32mraise\u001B[0m \u001B[0mInvalidArgument\u001B[0m\u001B[0;34m(\u001B[0m\u001B[0;34m\"Argument model should be a PGM (BayesNet or MarkovRandomField\"\u001B[0m\u001B[0;34m)\u001B[0m\u001B[0;34m\u001B[0m\u001B[0;34m\u001B[0m\u001B[0m\n\u001B[1;32m  29354\u001B[0m \u001B[0;34m\u001B[0m\u001B[0m\n\u001B[1;32m  29355\u001B[0m   \u001B[0;32mif\u001B[0m \u001B[0mevs\u001B[0m \u001B[0;32mis\u001B[0m \u001B[0;32mnot\u001B[0m \u001B[0;32mNone\u001B[0m\u001B[0;34m:\u001B[0m\u001B[0;34m\u001B[0m\u001B[0;34m\u001B[0m\u001B[0m\n\u001B[1;32m  29356\u001B[0m     \u001B[0minf\u001B[0m\u001B[0;34m.\u001B[0m\u001B[0msetEvidence\u001B[0m\u001B[0;34m(\u001B[0m\u001B[0mevs\u001B[0m\u001B[0;34m)\u001B[0m\u001B[0;34m\u001B[0m\u001B[0;34m\u001B[0m\u001B[0m\n\u001B[0;32m> 29357\u001B[0;31m   \u001B[0minf\u001B[0m\u001B[0;34m.\u001B[0m\u001B[0maddTarget\u001B[0m\u001B[0;34m(\u001B[0m\u001B[0mtarget\u001B[0m\u001B[0;34m)\u001B[0m\u001B[0;34m\u001B[0m\u001B[0;34m\u001B[0m\u001B[0m\n\u001B[0m\u001B[1;32m  29358\u001B[0m   \u001B[0minf\u001B[0m\u001B[0;34m.\u001B[0m\u001B[0mmakeInference\u001B[0m\u001B[0;34m(\u001B[0m\u001B[0;34m)\u001B[0m\u001B[0;34m\u001B[0m\u001B[0;34m\u001B[0m\u001B[0m\n\u001B[1;32m  29359\u001B[0m \u001B[0;31m# creating a new Potential from posterior(will disappear with ie)\u001B[0m\u001B[0;34m\u001B[0m\u001B[0;34m\u001B[0m\u001B[0m\n\u001B[1;32m  29360\u001B[0m   \u001B[0;32mreturn\u001B[0m \u001B[0mPotential\u001B[0m\u001B[0;34m(\u001B[0m\u001B[0minf\u001B[0m\u001B[0;34m.\u001B[0m\u001B[0mposterior\u001B[0m\u001B[0;34m(\u001B[0m\u001B[0mtarget\u001B[0m\u001B[0;34m)\u001B[0m\u001B[0;34m)\u001B[0m\u001B[0;34m\u001B[0m\u001B[0;34m\u001B[0m\u001B[0m\n",
      "\u001B[0;32m~/PycharmProjects/DMS/venv/lib/python3.11/site-packages/pyAgrum/pyAgrum.py\u001B[0m in \u001B[0;36m?\u001B[0;34m(self, *args)\u001B[0m\n\u001B[1;32m  16988\u001B[0m         \u001B[0mpyAgrum\u001B[0m\u001B[0;34m.\u001B[0m\u001B[0mUndefinedElement\u001B[0m\u001B[0;34m\u001B[0m\u001B[0;34m\u001B[0m\u001B[0m\n\u001B[1;32m  16989\u001B[0m           \u001B[0mIf\u001B[0m \u001B[0mtarget\u001B[0m \u001B[0;32mis\u001B[0m \u001B[0;32mnot\u001B[0m \u001B[0ma\u001B[0m \u001B[0mNodeId\u001B[0m \u001B[0;32min\u001B[0m \u001B[0mthe\u001B[0m \u001B[0mBayes\u001B[0m \u001B[0mnet\u001B[0m\u001B[0;34m\u001B[0m\u001B[0;34m\u001B[0m\u001B[0m\n\u001B[1;32m  16990\u001B[0m \u001B[0;34m\u001B[0m\u001B[0m\n\u001B[1;32m  16991\u001B[0m         \"\"\"\n\u001B[0;32m> 16992\u001B[0;31m         \u001B[0;32mreturn\u001B[0m \u001B[0m_pyAgrum\u001B[0m\u001B[0;34m.\u001B[0m\u001B[0mVariableElimination_addTarget\u001B[0m\u001B[0;34m(\u001B[0m\u001B[0mself\u001B[0m\u001B[0;34m,\u001B[0m \u001B[0;34m*\u001B[0m\u001B[0margs\u001B[0m\u001B[0;34m)\u001B[0m\u001B[0;34m\u001B[0m\u001B[0;34m\u001B[0m\u001B[0m\n\u001B[0m",
      "\u001B[0;31mNotFound\u001B[0m: [pyAgrum] Object not found: No element with the key <d0>"
     ]
    }
   ],
   "execution_count": 11
  }
 ],
 "metadata": {
  "kernelspec": {
   "display_name": "Python 3",
   "language": "python",
   "name": "python3"
  },
  "language_info": {
   "codemirror_mode": {
    "name": "ipython",
    "version": 2
   },
   "file_extension": ".py",
   "mimetype": "text/x-python",
   "name": "python",
   "nbconvert_exporter": "python",
   "pygments_lexer": "ipython2",
   "version": "2.7.6"
  }
 },
 "nbformat": 4,
 "nbformat_minor": 5
}
