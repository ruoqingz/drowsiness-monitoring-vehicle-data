{
 "cells": [
  {
   "cell_type": "code",
   "id": "48b919c73c818b68",
   "metadata": {
    "collapsed": true,
    "ExecuteTime": {
     "end_time": "2024-05-15T15:30:20.213514Z",
     "start_time": "2024-05-15T15:30:20.210739Z"
    }
   },
   "source": [
    "import json\n",
    "import statistics\n",
    "import numpy as np\n",
    "from matplotlib import pyplot as plt\n",
    "from sklearn.ensemble import RandomForestClassifier\n",
    "from sklearn.model_selection import cross_val_score, cross_val_predict, StratifiedKFold, ShuffleSplit, learning_curve\n",
    "from sklearn.metrics import accuracy_score, precision_recall_curve, confusion_matrix, RocCurveDisplay, auc, make_scorer, f1_score, roc_auc_score\n",
    "from sklearn.model_selection import train_test_split\n",
    "from imblearn.over_sampling import SMOTE\n",
    "from imblearn.under_sampling import RandomUnderSampler\n",
    "from preprocess_data.process_ground_truth import reform_ground_truth, ground_truth_sep\n",
    "from sklearn.model_selection import GridSearchCV\n",
    "from sklearn.metrics import recall_score\n",
    "import seaborn as sns\n"
   ],
   "outputs": [],
   "execution_count": 31
  },
  {
   "metadata": {
    "ExecuteTime": {
     "end_time": "2024-05-15T15:30:21.516283Z",
     "start_time": "2024-05-15T15:30:21.507702Z"
    }
   },
   "cell_type": "code",
   "source": [
    "def compress_data(data, resolution):\n",
    "    compressed = {}\n",
    "    for name in data.keys():\n",
    "        compressed[name] = {}\n",
    "        compressed[name]['average'] = []\n",
    "        compressed[name]['variance'] = []\n",
    "        compressed[name]['peak'] = []\n",
    "        for i in range(0, len(data[name]), resolution):\n",
    "            compressed[name]['average'].append(statistics.mean(data[name][i:i + resolution]))\n",
    "            compressed[name]['variance'].append(statistics.variance(data[name][i:i + resolution]))\n",
    "            compressed[name]['peak'].append(max(data[name][i:i + resolution], key=abs))\n",
    "    return compressed\n",
    "\n",
    "\n",
    "def feature_matrix(window, compressed_swa, compressed_longitudinal_acc, compressed_lateral_acc, flag, b):\n",
    "    cases = 0\n",
    "    # true | true_window['catia'][0](这是对应的秒数，一个数列）compressed_swa['catia']['average'][true_window['catia'][0]]\n",
    "    matrix = []\n",
    "    for name in window.keys():\n",
    "        cases += len(window[name])\n",
    "        for i in range(0, len(window[name])):\n",
    "            temp = []\n",
    "            if flag == 1:\n",
    "                for j in window[name][i]:\n",
    "                    temp.extend(compressed_swa[name]['average'][b * j:b * (j + 1)])\n",
    "                    temp.extend(compressed_swa[name]['variance'][b * j:b * (j + 1)])\n",
    "                    temp.extend(compressed_swa[name]['peak'][b * j:b * (j + 1)])\n",
    "            if flag == 2:\n",
    "                for j in window[name][i]:\n",
    "                    temp.extend(compressed_lateral_acc[name]['average'][b * j:b * (j + 1)])\n",
    "                    temp.extend(compressed_lateral_acc[name]['variance'][b * j:b * (j + 1)])\n",
    "                    temp.extend(compressed_lateral_acc[name]['peak'][b * j:b * (j + 1)])\n",
    "            if flag == 3:\n",
    "                for j in window[name][i]:\n",
    "                    temp.extend(compressed_longitudinal_acc[name]['average'][b * j:b * (j + 1)])\n",
    "                    temp.extend(compressed_longitudinal_acc[name]['variance'][b * j:b * (j + 1)])\n",
    "                    temp.extend(compressed_longitudinal_acc[name]['peak'][b * j:b * (j + 1)])\n",
    "            if flag == 4:\n",
    "                for j in window[name][i]:\n",
    "                    temp.extend(compressed_lateral_acc[name]['average'][b * j:b * (j + 1)])\n",
    "                    temp.extend(compressed_lateral_acc[name]['variance'][b * j:b * (j + 1)])\n",
    "                    temp.extend(compressed_lateral_acc[name]['peak'][b * j:b * (j + 1)])\n",
    "                for j in window[name][i]:\n",
    "                    temp.extend(compressed_longitudinal_acc[name]['average'][b * j:b * (j + 1)])\n",
    "                    temp.extend(compressed_longitudinal_acc[name]['variance'][b * j:b * (j + 1)])\n",
    "                    temp.extend(compressed_longitudinal_acc[name]['peak'][b * j:b * (j + 1)])\n",
    "            if flag == 5:\n",
    "                for j in window[name][i]:\n",
    "                    temp.extend(compressed_swa[name]['average'][b * j:b * (j + 1)])\n",
    "                    temp.extend(compressed_swa[name]['variance'][b * j:b * (j + 1)])\n",
    "                    temp.extend(compressed_swa[name]['peak'][b * j:b * (j + 1)])\n",
    "                for j in window[name][i]:\n",
    "                    temp.extend(compressed_lateral_acc[name]['average'][b * j:b * (j + 1)])\n",
    "                    temp.extend(compressed_lateral_acc[name]['variance'][b * j:b * (j + 1)])\n",
    "                    temp.extend(compressed_lateral_acc[name]['peak'][b * j:b * (j + 1)])\n",
    "                for j in window[name][i]:\n",
    "                    temp.extend(compressed_longitudinal_acc[name]['average'][b * j:b * (j + 1)])\n",
    "                    temp.extend(compressed_longitudinal_acc[name]['variance'][b * j:b * (j + 1)])\n",
    "                    temp.extend(compressed_longitudinal_acc[name]['peak'][b * j:b * (j + 1)])\n",
    "            matrix.append(temp)\n",
    "            \n",
    "    matrix=np.array(matrix)        \n",
    "\n",
    "    return matrix, cases\n"
   ],
   "id": "efcbb272a2297f7c",
   "outputs": [],
   "execution_count": 32
  },
  {
   "metadata": {
    "ExecuteTime": {
     "end_time": "2024-05-15T15:30:23.673033Z",
     "start_time": "2024-05-15T15:30:23.659157Z"
    }
   },
   "cell_type": "code",
   "source": [
    "\n",
    "def plot_learning_curve(X, y, rf_classifier):\n",
    "    cv = StratifiedKFold(n_splits=10, shuffle=True, random_state=42)\n",
    "\n",
    "    # scorer = make_scorer(f1_score, pos_label=1)\n",
    "    scorer = make_scorer(roc_auc_score)\n",
    "\n",
    "    # 计算学习曲线\n",
    "    train_sizes, train_scores, test_scores = learning_curve(rf_classifier, X, y, cv=cv, n_jobs=-1,\n",
    "                                                            train_sizes=np.linspace(0.5, 1.0, 10),\n",
    "                                                            scoring=scorer)\n",
    "\n",
    "    # 计算平均和标准差\n",
    "    train_mean = np.mean(train_scores, axis=1)\n",
    "    train_std = np.std(train_scores, axis=1)\n",
    "    test_mean = np.mean(test_scores, axis=1)\n",
    "    test_std = np.std(test_scores, axis=1)\n",
    "\n",
    "    # 绘制学习曲线\n",
    "    plt.plot(train_sizes, train_mean, '--', color=\"#111111\", label=\"Training score\")\n",
    "    plt.plot(train_sizes, test_mean, color=\"#111111\", label=\"Cross-validation score\")\n",
    "\n",
    "    # 绘制阴影区域\n",
    "    plt.fill_between(train_sizes, train_mean - train_std, train_mean + train_std, color=\"#DDDDDD\")\n",
    "    plt.fill_between(train_sizes, test_mean - test_std, test_mean + test_std, color=\"#DDDDDD\")\n",
    "\n",
    "    # 创建图例和标签\n",
    "    plt.title(\"Learning Curve\")\n",
    "    plt.xlabel(\"Training Set Size\"), plt.ylabel(\"roc_auc Score\"), plt.legend(loc=\"best\")\n",
    "    plt.tight_layout()\n",
    "    plt.show()\n",
    "\n",
    "\n",
    "def plot_auc_roc(X, y, cv, rf_classifier, n_splits):\n",
    "    tprs = []\n",
    "    aucs = []\n",
    "    mean_fpr = np.linspace(0, 1, 100)\n",
    "    accuracy = []\n",
    "\n",
    "    fig, ax = plt.subplots(figsize=(6, 6))\n",
    "    for fold, (train, val) in enumerate(cv.split(X, y)):\n",
    "        rf_classifier.fit(X[train], y[train])\n",
    "\n",
    "        viz = RocCurveDisplay.from_estimator(rf_classifier, X[val], y[val],\n",
    "                                             name=f\"ROC fold {fold}\", alpha=0.3, lw=1, ax=ax,\n",
    "                                             plot_chance_level=(fold == n_splits - 1),\n",
    "                                             )\n",
    "        interp_tpr = np.interp(mean_fpr, viz.fpr, viz.tpr)\n",
    "        interp_tpr[0] = 0.0\n",
    "        tprs.append(interp_tpr)\n",
    "        aucs.append(viz.roc_auc)\n",
    "        conf_matrix = confusion_matrix(y[val], rf_classifier.predict(X[val]))\n",
    "        print(f\"Confusion Matrix for fold {fold}:\\n{conf_matrix}\")\n",
    "        accuracy.append(accuracy_score(y[val], rf_classifier.predict(X[val])))\n",
    "\n",
    "    print(\"mean accuracy is: %0.3f\" % (np.average(accuracy)))\n",
    "\n",
    "    mean_tpr = np.mean(tprs, axis=0)\n",
    "    mean_tpr[-1] = 1.0\n",
    "    mean_auc = auc(mean_fpr, mean_tpr)\n",
    "    std_auc = np.std(aucs)\n",
    "\n",
    "    print(\"Mean ROC (AUC= %0.2f ± %0.2f)\" % (mean_auc, std_auc))\n",
    "\n",
    "    ax.plot(mean_fpr, mean_tpr, color=\"b\", label=r\"Mean ROC (AUC = %0.2f $\\pm$ %0.2f)\" % (mean_auc, std_auc), lw=2,\n",
    "            alpha=0.8, )\n",
    "\n",
    "    std_tpr = np.std(tprs, axis=0)\n",
    "    tprs_upper = np.minimum(mean_tpr + std_tpr, 1)\n",
    "    tprs_lower = np.maximum(mean_tpr - std_tpr, 0)\n",
    "    ax.fill_between(mean_fpr, tprs_lower, tprs_upper, color=\"grey\", alpha=0.2, label=r\"$\\pm$ 1 std. dev.\", )\n",
    "\n",
    "    ax.set(xlabel=\"False Positive Rate\", ylabel=\"True Positive Rate\",\n",
    "           )\n",
    "    ax.legend(loc=\"lower right\")\n",
    "\n",
    "    # plt.show()\n",
    "\n",
    "\n",
    "def plot_precision_recall(rf_classifier, X, y):\n",
    "    y_predict = rf_classifier.predict(X)\n",
    "    conf_matrix = confusion_matrix(y, y_predict)\n",
    "\n",
    "    y_scores = rf_classifier.predict_proba(X)[:, 1]\n",
    "    precision, recall, thresholds = precision_recall_curve(y, y_scores)\n",
    "    plt.figure(figsize=(10, 7))\n",
    "    plt.plot(recall, precision, label='Random Forest')\n",
    "    plt.xlabel('Recall')\n",
    "    plt.ylabel('Precision')\n",
    "    plt.title('Precision-Recall Curve')\n",
    "    plt.legend(loc='best')\n",
    "    plt.grid()\n",
    "    plt.show()\n",
    "\n",
    "\n",
    "def error_rate_curve_oob(X, y, n_estimator):\n",
    "    oob_errors = []\n",
    "\n",
    "    n_estimators_range = range(10, n_estimator, 10)  # Change the range as needed\n",
    "\n",
    "    for n_estimators in n_estimators_range:\n",
    "        rf_classifier = RandomForestClassifier(n_estimators=n_estimators, criterion='entropy', max_features='sqrt',\n",
    "                                               oob_score=True, max_depth=10, random_state=42)\n",
    "\n",
    "        rf_classifier.fit(X, y)\n",
    "\n",
    "        oob_error = 1 - rf_classifier.oob_score_\n",
    "\n",
    "        oob_errors.append(oob_error)\n",
    "\n",
    "    plt.figure(figsize=(10, 6))\n",
    "    plt.plot(n_estimators_range, oob_errors, marker='o', linestyle='-')\n",
    "    plt.title('Error-rate Curve for Random Forest')\n",
    "    plt.xlabel('Number of Trees')\n",
    "    plt.ylabel('Out-of-Bag Error')\n",
    "    plt.grid(True)\n",
    "    plt.show()\n",
    "    \n",
    "def confusion_matrix_on_test_data(model,model_name, X_test, y_test):\n",
    "    y_pred=model.predict(X_test)\n",
    "    cm = confusion_matrix(y_test, y_pred)\n",
    "    print('Recall:', recall_score(y_test, y_pred))\n",
    "    print('F1:', f1_score(y_test, y_pred))\n",
    "    print('Precision:', cm[1,1]/(cm[1,1]+cm[0,1]))\n",
    "    plt.figure()\n",
    "    sns.heatmap(cm, annot=True, cmap='Blues', fmt='g', xticklabels=['Awake', 'Drowsy'], yticklabels=['Awake', 'Drowsy'])\n",
    "    plt.xlabel('Predicted Label')\n",
    "    plt.ylabel('True Label')\n",
    "    plt.title('Confusion Matrix of '+model_name)\n",
    "    plt.show()    \n"
   ],
   "id": "da734dda37cbad0d",
   "outputs": [],
   "execution_count": 33
  },
  {
   "metadata": {
    "ExecuteTime": {
     "end_time": "2024-05-15T15:30:26.015091Z",
     "start_time": "2024-05-15T15:30:26.012026Z"
    }
   },
   "cell_type": "code",
   "source": [
    "param_grid = {\n",
    "    'n_estimators': [400, 500, 600],\n",
    "    'max_features': ['sqrt', 'log2'],\n",
    "    'max_depth': [None, 10, 20, 30],\n",
    "    'min_samples_split': [2, 5, 10],\n",
    "    'min_samples_leaf': [1, 2, 4]\n",
    "}\n"
   ],
   "id": "ef6cdc6e3b063d26",
   "outputs": [],
   "execution_count": 34
  },
  {
   "metadata": {
    "ExecuteTime": {
     "end_time": "2024-05-15T15:30:38.811640Z",
     "start_time": "2024-05-15T15:30:27.903590Z"
    }
   },
   "cell_type": "code",
   "source": [
    "\n",
    "with open('preprocess_data/SWA_data.json', 'r') as f:\n",
    "    SWA_data = json.load(f)\n",
    "\n",
    "with open('preprocess_data/lateral_acceleration_data.json', 'r') as f:\n",
    "    lateral_acceleration_data = json.load(f)\n",
    "\n",
    "with open('preprocess_data/longitudinal_acceleration_data.json', 'r') as f:\n",
    "    longitudinal_acceleration_data = json.load(f)\n",
    "\n",
    "with open('preprocess_data/ground_truth.json', 'r') as f:\n",
    "    ground_truth = json.load(f)\n",
    "\n",
    "ground_truth = reform_ground_truth(ground_truth)\n",
    "\n",
    "size = 10\n",
    "sample_rate = 100\n",
    "compress_package = 1 # conpress the data in 1 sec, and could be 0.5 sec\n",
    "resolution = int(sample_rate*compress_package)\n",
    "b=int(1/compress_package)\n",
    "flag = 5  # 1 for swa, 2 for lateral_acc, 3 for longitudinal_acc, 4 for all acc, 5 for swa+acc\n",
    "\n",
    "awake_window, _, drowsy_window = ground_truth_sep(ground_truth, size, 1)\n",
    "\n",
    "compressed_swa = compress_data(SWA_data, resolution)\n",
    "compressed_longitudinal_acc = compress_data(longitudinal_acceleration_data, resolution)\n",
    "compressed_lateral_acc = compress_data(lateral_acceleration_data, resolution)\n",
    "\n",
    "drowsy_feature, drowsy_cases= feature_matrix(drowsy_window, compressed_swa, compressed_longitudinal_acc, compressed_lateral_acc, flag, b)\n",
    "\n",
    "awake_feature, awake_cases = feature_matrix(awake_window, compressed_swa, compressed_longitudinal_acc, compressed_lateral_acc, flag, b)\n",
    "\n",
    "\n",
    "label = np.concatenate((np.zeros((awake_cases)), np.ones((drowsy_cases))), axis=0)\n",
    "feature=np.concatenate((awake_feature, drowsy_feature), axis=0)"
   ],
   "id": "5d6ec8ecf22b6d62",
   "outputs": [],
   "execution_count": 35
  },
  {
   "metadata": {
    "ExecuteTime": {
     "end_time": "2024-05-15T15:30:48.926488Z",
     "start_time": "2024-05-15T15:30:48.839797Z"
    }
   },
   "cell_type": "code",
   "source": [
    "X_train, X_test, y_train, y_test = train_test_split(feature, label, test_size=0.15, random_state=42)\n",
    "#downsample the data\n",
    "rus = RandomUnderSampler(random_state=0)\n",
    "X_resampled, y_resampled = rus.fit_resample(X_train, y_train)\n",
    "\n",
    "#oversample the data\n",
    "smote = SMOTE(sampling_strategy='minority', k_neighbors=3, random_state=42)\n",
    "X_smote, y_smote = smote.fit_resample(X_train, y_train)"
   ],
   "id": "a03f0e764f5e7ba5",
   "outputs": [],
   "execution_count": 36
  },
  {
   "metadata": {
    "ExecuteTime": {
     "end_time": "2024-05-15T15:33:17.521773Z",
     "start_time": "2024-05-15T15:30:51.895375Z"
    }
   },
   "cell_type": "code",
   "source": [
    "rf_classifier= RandomForestClassifier(random_state=42)\n",
    "grid_search=GridSearchCV(rf_classifier, param_grid, cv=5, n_jobs=-1, verbose=2)\n",
    "grid_search.fit(X_resampled, y_resampled)\n",
    "print(\"Best parameters:\", grid_search.best_params_)\n",
    "print(\"最高准确率: {:.2f}\".format(grid_search.best_score_))\n"
   ],
   "id": "c3f6b018381bcc",
   "outputs": [
    {
     "name": "stdout",
     "output_type": "stream",
     "text": [
      "Fitting 5 folds for each of 216 candidates, totalling 1080 fits\n",
      "Best parameters: {'max_depth': None, 'max_features': 'log2', 'min_samples_leaf': 1, 'min_samples_split': 5, 'n_estimators': 500}\n",
      "最高准确率: 0.68\n"
     ]
    }
   ],
   "execution_count": 37
  },
  {
   "metadata": {
    "ExecuteTime": {
     "end_time": "2024-05-15T15:35:05.223281Z",
     "start_time": "2024-05-15T15:35:05.039420Z"
    }
   },
   "cell_type": "code",
   "source": [
    "best_rf = grid_search.best_estimator_\n",
    "confusion_matrix_on_test_data(best_rf, 'Random Forest', X_test, y_test)\n"
   ],
   "id": "b9d2b5da4c7d5bef",
   "outputs": [
    {
     "name": "stdout",
     "output_type": "stream",
     "text": [
      "Recall: 0.6753246753246753\n",
      "F1: 0.10431293881644935\n",
      "Precision: 0.05652173913043478\n"
     ]
    },
    {
     "data": {
      "text/plain": [
       "<Figure size 640x480 with 2 Axes>"
      ],
      "image/png": "[encoded data removed]"
     },
     "metadata": {},
     "output_type": "display_data"
    }
   ],
   "execution_count": 38
  },
  {
   "metadata": {},
   "cell_type": "code",
   "outputs": [
    {
     "ename": "NameError",
     "evalue": "name 'plot_auc_roc' is not defined",
     "output_type": "error",
     "traceback": [
      "\u001B[0;31m---------------------------------------------------------------------------\u001B[0m",
      "\u001B[0;31mNameError\u001B[0m                                 Traceback (most recent call last)",
      "Cell \u001B[0;32mIn[16], line 10\u001B[0m\n\u001B[1;32m      6\u001B[0m cv \u001B[38;5;241m=\u001B[39m StratifiedKFold(n_splits\u001B[38;5;241m=\u001B[39mn_splits, shuffle\u001B[38;5;241m=\u001B[39m\u001B[38;5;28;01mTrue\u001B[39;00m, random_state\u001B[38;5;241m=\u001B[39m\u001B[38;5;241m42\u001B[39m)\n\u001B[1;32m      8\u001B[0m \u001B[38;5;66;03m# plot_precision_recall(rf_classifier,X,y)\u001B[39;00m\n\u001B[0;32m---> 10\u001B[0m \u001B[43mplot_auc_roc\u001B[49m(X_resampled, y_resampled, cv, rf_classifier, n_splits)\n\u001B[1;32m     11\u001B[0m \u001B[38;5;66;03m# plot_auc_roc(X_smote, y_smote, cv, rf_classifier, n_splits)\u001B[39;00m\n\u001B[1;32m     12\u001B[0m \n\u001B[1;32m     13\u001B[0m \u001B[38;5;66;03m# plot_learning_curve(X_sum, y_sum, rf_classifier)\u001B[39;00m\n",
      "\u001B[0;31mNameError\u001B[0m: name 'plot_auc_roc' is not defined"
     ]
    }
   ],
   "execution_count": 16,
   "source": [
    "\n",
    "# rf_classifier = RandomForestClassifier(n_estimators=500, criterion='entropy', oob_score=True,\n",
    "#                                        max_features='sqrt', max_depth=10,\n",
    "#                                        random_state=42)  # number of trees in the forest\n",
    "# \n",
    "# n_splits = 10\n",
    "# cv = StratifiedKFold(n_splits=n_splits, shuffle=True, random_state=42)\n",
    "\n",
    "# plot_precision_recall(rf_classifier,X,y)\n",
    "\n",
    "# plot_auc_roc(X_resampled, y_resampled, cv, rf_classifier, n_splits)\n",
    "# plot_auc_roc(X_smote, y_smote, cv, rf_classifier, n_splits)\n",
    "\n",
    "# plot_learning_curve(X_sum, y_sum, rf_classifier)\n",
    "\n"
   ],
   "id": "initial_id"
  },
  {
   "metadata": {},
   "cell_type": "code",
   "outputs": [],
   "execution_count": null,
   "source": "",
   "id": "90f37f8c1d5a7111"
  }
 ],
 "metadata": {
  "kernelspec": {
   "display_name": "Python 3",
   "language": "python",
   "name": "python3"
  },
  "language_info": {
   "codemirror_mode": {
    "name": "ipython",
    "version": 2
   },
   "file_extension": ".py",
   "mimetype": "text/x-python",
   "name": "python",
   "nbconvert_exporter": "python",
   "pygments_lexer": "ipython2",
   "version": "2.7.6"
  }
 },
 "nbformat": 4,
 "nbformat_minor": 5
}
