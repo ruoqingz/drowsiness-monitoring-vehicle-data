{
 "cells": [
  {
   "cell_type": "code",
   "id": "initial_id",
   "metadata": {
    "collapsed": true,
    "ExecuteTime": {
     "end_time": "2024-05-20T07:52:00.359039Z",
     "start_time": "2024-05-20T07:51:59.305053Z"
    }
   },
   "source": [
    "import json\n",
    "import statistics\n",
    "import numpy as np\n",
    "from matplotlib import pyplot as plt\n",
    "from sklearn.ensemble import RandomForestClassifier\n",
    "from sklearn.model_selection import StratifiedKFold, learning_curve\n",
    "from sklearn.metrics import accuracy_score, precision_recall_curve, confusion_matrix, RocCurveDisplay, auc, make_scorer, f1_score, roc_auc_score\n",
    "from sklearn.model_selection import train_test_split\n",
    "from imblearn.over_sampling import SMOTE\n",
    "from imblearn.under_sampling import RandomUnderSampler, TomekLinks, EditedNearestNeighbours, RepeatedEditedNearestNeighbours\n",
    "from preprocess_data.process_ground_truth import reform_ground_truth, ground_truth_sep\n",
    "from sklearn.model_selection import GridSearchCV\n",
    "from sklearn.metrics import recall_score\n",
    "import seaborn as sns\n",
    "import os\n",
    "import random"
   ],
   "outputs": [],
   "execution_count": 2
  },
  {
   "metadata": {
    "ExecuteTime": {
     "end_time": "2024-05-20T07:52:05.470046Z",
     "start_time": "2024-05-20T07:52:05.458777Z"
    }
   },
   "cell_type": "code",
   "source": [
    "def compress_data(data, resolution):\n",
    "    compressed = {}\n",
    "    for name in data.keys():\n",
    "        compressed[name] = {}\n",
    "        compressed[name]['average'] = []\n",
    "        compressed[name]['variance'] = []\n",
    "        compressed[name]['peak'] = []\n",
    "        for i in range(0, len(data[name]), resolution):\n",
    "            compressed[name]['average'].append(statistics.mean(data[name][i:i + resolution]))\n",
    "            compressed[name]['variance'].append(statistics.variance(data[name][i:i + resolution]))\n",
    "            compressed[name]['peak'].append(max(data[name][i:i + resolution], key=abs))\n",
    "    return compressed\n",
    "\n",
    "\n",
    "def feature_matrix(window, compressed_swa, compressed_longitudinal_acc, compressed_lateral_acc, flag, b):\n",
    "    cases = 0\n",
    "    # true | true_window['catia'][0](这是对应的秒数，一个数列）compressed_swa['catia']['average'][true_window['catia'][0]]\n",
    "    matrix = []\n",
    "    for name in window.keys():\n",
    "        cases += len(window[name])\n",
    "        for i in range(0, len(window[name])):\n",
    "            temp = []\n",
    "            if flag == 1:\n",
    "                for j in window[name][i]:\n",
    "                    temp.extend(compressed_swa[name]['average'][b * j:b * (j + 1)])\n",
    "                    temp.extend(compressed_swa[name]['variance'][b * j:b * (j + 1)])\n",
    "                    temp.extend(compressed_swa[name]['peak'][b * j:b * (j + 1)])\n",
    "            if flag == 2:\n",
    "                for j in window[name][i]:\n",
    "                    temp.extend(compressed_lateral_acc[name]['average'][b * j:b * (j + 1)])\n",
    "                    temp.extend(compressed_lateral_acc[name]['variance'][b * j:b * (j + 1)])\n",
    "                    temp.extend(compressed_lateral_acc[name]['peak'][b * j:b * (j + 1)])\n",
    "            if flag == 3:\n",
    "                for j in window[name][i]:\n",
    "                    temp.extend(compressed_longitudinal_acc[name]['average'][b * j:b * (j + 1)])\n",
    "                    temp.extend(compressed_longitudinal_acc[name]['variance'][b * j:b * (j + 1)])\n",
    "                    temp.extend(compressed_longitudinal_acc[name]['peak'][b * j:b * (j + 1)])\n",
    "            if flag == 4:\n",
    "                for j in window[name][i]:\n",
    "                    temp.extend(compressed_lateral_acc[name]['average'][b * j:b * (j + 1)])\n",
    "                    temp.extend(compressed_lateral_acc[name]['variance'][b * j:b * (j + 1)])\n",
    "                    temp.extend(compressed_lateral_acc[name]['peak'][b * j:b * (j + 1)])\n",
    "                for j in window[name][i]:\n",
    "                    temp.extend(compressed_longitudinal_acc[name]['average'][b * j:b * (j + 1)])\n",
    "                    temp.extend(compressed_longitudinal_acc[name]['variance'][b * j:b * (j + 1)])\n",
    "                    temp.extend(compressed_longitudinal_acc[name]['peak'][b * j:b * (j + 1)])\n",
    "            if flag == 5:\n",
    "                for j in window[name][i]:\n",
    "                    temp.extend(compressed_swa[name]['average'][b * j:b * (j + 1)])\n",
    "                    temp.extend(compressed_swa[name]['variance'][b * j:b * (j + 1)])\n",
    "                    temp.extend(compressed_swa[name]['peak'][b * j:b * (j + 1)])\n",
    "                for j in window[name][i]:\n",
    "                    temp.extend(compressed_lateral_acc[name]['average'][b * j:b * (j + 1)])\n",
    "                    temp.extend(compressed_lateral_acc[name]['variance'][b * j:b * (j + 1)])\n",
    "                    temp.extend(compressed_lateral_acc[name]['peak'][b * j:b * (j + 1)])\n",
    "                for j in window[name][i]:\n",
    "                    temp.extend(compressed_longitudinal_acc[name]['average'][b * j:b * (j + 1)])\n",
    "                    temp.extend(compressed_longitudinal_acc[name]['variance'][b * j:b * (j + 1)])\n",
    "                    temp.extend(compressed_longitudinal_acc[name]['peak'][b * j:b * (j + 1)])\n",
    "            matrix.append(temp)\n",
    "            \n",
    "    matrix=np.array(matrix)        \n",
    "\n",
    "    return matrix, cases\n"
   ],
   "id": "7628c35eba7f270f",
   "outputs": [],
   "execution_count": 3
  },
  {
   "metadata": {
    "ExecuteTime": {
     "end_time": "2024-05-20T07:52:08.052492Z",
     "start_time": "2024-05-20T07:52:08.049388Z"
    }
   },
   "cell_type": "code",
   "source": [
    "def confusion_matrix_on_test_data(model,model_name, X_test, y_test):\n",
    "    y_pred=model.predict(X_test)\n",
    "    cm = confusion_matrix(y_test, y_pred)\n",
    "    print('Recall:', recall_score(y_test, y_pred))\n",
    "    print('F1:', f1_score(y_test, y_pred))\n",
    "    print('Precision:', cm[1,1]/(cm[1,1]+cm[0,1]))\n",
    "    print('specificity:', cm[0,0]/(cm[0,0]+cm[0,1]))\n",
    "    print('senstivity:', cm[1,1]/(cm[1,1]+cm[1,0]))\n",
    "    plt.figure()\n",
    "    sns.heatmap(cm, annot=True, cmap='Blues', fmt='g', xticklabels=['Awake', 'Drowsy'], yticklabels=['Awake', 'Drowsy'])\n",
    "    plt.xlabel('Predicted Label')\n",
    "    plt.ylabel('True Label')\n",
    "    plt.title('Confusion Matrix of '+model_name)\n",
    "    plt.show()    \n"
   ],
   "id": "8af3edc091401cd8",
   "outputs": [],
   "execution_count": 4
  },
  {
   "metadata": {
    "ExecuteTime": {
     "end_time": "2024-05-20T07:52:10.486308Z",
     "start_time": "2024-05-20T07:52:10.483547Z"
    }
   },
   "cell_type": "code",
   "source": [
    "param_grid = {\n",
    "    'n_estimators': [ 500, 700, 900],\n",
    "    'max_features': ['sqrt','log2'],\n",
    "    'max_depth': [None, 10,20],\n",
    "    'min_samples_split': [2, 5],\n",
    "    'min_samples_leaf': [1, 2]\n",
    "}"
   ],
   "id": "e0da070ec07931e3",
   "outputs": [],
   "execution_count": 5
  },
  {
   "metadata": {
    "ExecuteTime": {
     "end_time": "2024-05-20T07:52:12.472447Z",
     "start_time": "2024-05-20T07:52:12.469596Z"
    }
   },
   "cell_type": "code",
   "source": [
    "os.chdir('/Users/ruotsing/PycharmProjects/DMS')\n",
    "print(os.getcwd())"
   ],
   "id": "3ac8f471a415524f",
   "outputs": [
    {
     "name": "stdout",
     "output_type": "stream",
     "text": [
      "/Users/ruotsing/PycharmProjects/DMS\n"
     ]
    }
   ],
   "execution_count": 6
  },
  {
   "metadata": {
    "ExecuteTime": {
     "end_time": "2024-05-20T07:52:16.808058Z",
     "start_time": "2024-05-20T07:52:16.094412Z"
    }
   },
   "cell_type": "code",
   "source": [
    "\n",
    "with open('preprocess_data/SWA_data.json', 'r') as f:\n",
    "    SWA_data = json.load(f)\n",
    "\n",
    "with open('preprocess_data/lateral_acceleration_data.json', 'r') as f:\n",
    "    lateral_acceleration_data = json.load(f)\n",
    "\n",
    "with open('preprocess_data/longitudinal_acceleration_data.json', 'r') as f:\n",
    "    longitudinal_acceleration_data = json.load(f)\n",
    "\n",
    "with open('preprocess_data/ground_truth.json', 'r') as f:\n",
    "    ground_truth = json.load(f)\n",
    "\n",
    "ground_truth = reform_ground_truth(ground_truth)\n",
    "\n",
    "def simulate_decrease_sample_rate_regular(data,original_rate,target_rate):\n",
    "    processed_data = {}\n",
    "    for name in data.keys():\n",
    "        processed_data[name] = []\n",
    "        for i in range(0, len(data[name]), int(original_rate/target_rate)):\n",
    "            processed_data[name].append(data[name][i])\n",
    "    return processed_data\n",
    "\n",
    "def simulate_decrease_sample_rate_random(data,original_rate,target_rate):\n",
    "    processed_data = {}\n",
    "    for name in data.keys():\n",
    "        processed_data[name] = []\n",
    "        for i in range(0, len(data[name])-int(original_rate), int(original_rate)):\n",
    "            processed_data[name].extend(random.sample(data[name][i:i+int(original_rate)],target_rate))\n",
    "    return processed_data\n",
    "\n",
    "SWA_data = simulate_decrease_sample_rate_regular(SWA_data, 100, 30)\n",
    "lateral_acceleration_data = simulate_decrease_sample_rate_regular(lateral_acceleration_data, 100, 30)\n",
    "longitudinal_acceleration_data = simulate_decrease_sample_rate_regular(longitudinal_acceleration_data, 100, 30)\n",
    "\n",
    "# SWA_data = simulate_decrease_sample_rate_random(SWA_data,100,10)\n",
    "# lateral_acceleration_data= simulate_decrease_sample_rate_random(lateral_acceleration_data, 100, 10)\n",
    "# longitudinal_acceleration_data = simulate_decrease_sample_rate_random(longitudinal_acceleration_data, 100, 10)\n",
    "\n",
    "        "
   ],
   "id": "5cc06605c0a700a8",
   "outputs": [],
   "execution_count": 7
  },
  {
   "metadata": {
    "ExecuteTime": {
     "end_time": "2024-05-20T07:52:33.270534Z",
     "start_time": "2024-05-20T07:52:27.342161Z"
    }
   },
   "cell_type": "code",
   "source": [
    "\n",
    "size = 10\n",
    "sample_rate = 30\n",
    "compress_package = 1 # conpress the data in 1 sec, and could be 0.5 sec\n",
    "resolution = int(sample_rate*compress_package)\n",
    "b=int(1/compress_package)\n",
    "flag = 5  # 1 for swa, 2 for lateral_acc, 3 for longitudinal_acc, 4 for all acc, 5 for swa+acc\n",
    "\n",
    "awake_window, _, drowsy_window = ground_truth_sep(ground_truth, size, 1)\n",
    "\n",
    "compressed_swa = compress_data(SWA_data, resolution)\n",
    "compressed_longitudinal_acc = compress_data(longitudinal_acceleration_data, resolution)\n",
    "compressed_lateral_acc = compress_data(lateral_acceleration_data, resolution)\n",
    "\n",
    "drowsy_feature, drowsy_cases= feature_matrix(drowsy_window, compressed_swa, compressed_longitudinal_acc, compressed_lateral_acc, flag, b)\n",
    "\n",
    "awake_feature, awake_cases = feature_matrix(awake_window, compressed_swa, compressed_longitudinal_acc, compressed_lateral_acc, flag, b)\n",
    "\n",
    "\n",
    "label = np.concatenate((np.zeros((awake_cases)), np.ones((drowsy_cases))), axis=0)\n",
    "feature=np.concatenate((awake_feature, drowsy_feature), axis=0)\n",
    "\n",
    "X_train, X_test, y_train, y_test = train_test_split(feature, label, test_size=0.15, random_state=42)"
   ],
   "id": "cb601e2f88103102",
   "outputs": [],
   "execution_count": 8
  },
  {
   "metadata": {
    "ExecuteTime": {
     "end_time": "2024-05-20T07:52:44.757189Z",
     "start_time": "2024-05-20T07:52:44.750674Z"
    }
   },
   "cell_type": "code",
   "source": [
    "rus = RandomUnderSampler(random_state=0)\n",
    "X_rus, y_rus = rus.fit_resample(X_train, y_train)"
   ],
   "id": "8341de31adfaf30a",
   "outputs": [],
   "execution_count": 10
  },
  {
   "metadata": {
    "ExecuteTime": {
     "end_time": "2024-05-20T07:53:45.244045Z",
     "start_time": "2024-05-20T07:52:48.704770Z"
    }
   },
   "cell_type": "code",
   "source": [
    "rf_classifier= RandomForestClassifier(random_state=42, class_weight='balanced')\n",
    "grid_search=GridSearchCV(rf_classifier, param_grid, cv=4, n_jobs=-1, verbose=2,scoring='accuracy')\n",
    "grid_search.fit(X_rus, y_rus)\n",
    "print(\"Best parameters:\", grid_search.best_params_)\n",
    "print(\"Best score: {:.2f}\".format(grid_search.best_score_))\n",
    "best_rf = grid_search.best_estimator_\n",
    "confusion_matrix_on_test_data(best_rf, 'Random Forest', X_test, y_test)"
   ],
   "id": "7072533f44d3d964",
   "outputs": [
    {
     "name": "stdout",
     "output_type": "stream",
     "text": [
      "Fitting 4 folds for each of 72 candidates, totalling 288 fits\n",
      "Best parameters: {'max_depth': None, 'max_features': 'sqrt', 'min_samples_leaf': 1, 'min_samples_split': 5, 'n_estimators': 700}\n",
      "Best score: 0.71\n",
      "Recall: 0.7922077922077922\n",
      "F1: 0.12448979591836734\n",
      "Precision: 0.06755260243632337\n",
      "specificity: 0.7016300496102055\n",
      "senstivity: 0.7922077922077922\n"
     ]
    },
    {
     "data": {
      "text/plain": [
       "<Figure size 640x480 with 2 Axes>"
      ],
      "image/png": "[encoded data removed]"
     },
     "metadata": {},
     "output_type": "display_data"
    }
   ],
   "execution_count": 11
  }
 ],
 "metadata": {
  "kernelspec": {
   "display_name": "Python 3",
   "language": "python",
   "name": "python3"
  },
  "language_info": {
   "codemirror_mode": {
    "name": "ipython",
    "version": 2
   },
   "file_extension": ".py",
   "mimetype": "text/x-python",
   "name": "python",
   "nbconvert_exporter": "python",
   "pygments_lexer": "ipython2",
   "version": "2.7.6"
  }
 },
 "nbformat": 4,
 "nbformat_minor": 5
}
