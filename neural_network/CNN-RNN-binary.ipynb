{
 "cells": [
  {
   "cell_type": "code",
   "id": "initial_id",
   "metadata": {
    "collapsed": true,
    "ExecuteTime": {
     "end_time": "2024-05-14T14:03:13.815048Z",
     "start_time": "2024-05-14T14:03:13.810320Z"
    }
   },
   "source": [
    "import json\n",
    "import numpy as np\n",
    "from preprocess_data.process_ground_truth import reform_ground_truth, ground_truth_sep\n",
    "import tensorflow as tf\n",
    "from sklearn.model_selection import train_test_split\n",
    "import seaborn as sns\n",
    "from matplotlib import pyplot as plt\n",
    "from sklearn.metrics import confusion_matrix, recall_score, f1_score\n",
    "from hyperopt import hp, fmin, tpe, Trials\n",
    "from tensorflow.keras.optimizers import Adam\n",
    "from tensorflow.keras.metrics import Recall, Precision, AUC\n",
    "from tensorflow.keras.utils import to_categorical"
   ],
   "outputs": [],
   "execution_count": 53
  },
  {
   "metadata": {
    "ExecuteTime": {
     "end_time": "2024-05-14T12:49:11.555144Z",
     "start_time": "2024-05-14T12:49:08.898938Z"
    }
   },
   "cell_type": "code",
   "source": [
    "\n",
    "with open('/Users/ruotsing/PycharmProjects/DMS/preprocess_data/lateral_acceleration_data.json', 'r') as f:\n",
    "    LA_data = json.load(f)\n",
    "    \n",
    "    \n",
    "with open('/Users/ruotsing/PycharmProjects/DMS/preprocess_data/SWA_data.json', 'r') as f:\n",
    "    SWA_data = json.load(f)\n",
    "\n",
    "with open('/Users/ruotsing/PycharmProjects/DMS/preprocess_data/lateral_displacement_data.json', 'r') as f:\n",
    "    LD_data = json.load(f)\n",
    "    \n",
    "with open('/Users/ruotsing/PycharmProjects/DMS/preprocess_data/YA_data.json', 'r') as f:\n",
    "    YA_data = json.load(f)\n",
    "    \n",
    "with open('/Users/ruotsing/PycharmProjects/DMS/preprocess_data/ground_truth.json', 'r') as f:\n",
    "    ground_truth = json.load(f)\n",
    "    \n",
    "def time_derivative(data, time_interval):\n",
    "    data_dt = {}\n",
    "    for name in data.keys():\n",
    "        delta_displacement = np.diff(data[name])\n",
    "        data_dt[name] = np.gradient(delta_displacement, time_interval)\n",
    "    return data_dt\n",
    "\n",
    "sample_rate = 100\n",
    "SWV_data= time_derivative(SWA_data, 1/sample_rate)\n",
    "YR_data= time_derivative(YA_data, 1/sample_rate)\n",
    "\n",
    "#standardize the data\n",
    "def standardize(data):\n",
    "    data_standard = {}\n",
    "    for name in data.keys():\n",
    "        data_standard[name] = (data[name] - np.mean(data[name]))/np.std(data[name])\n",
    "    return data_standard\n",
    "\n",
    "YR_standard = standardize(YR_data)\n",
    "SWA_standard = standardize(SWA_data)\n",
    "SWV_standard = standardize(SWV_data)\n",
    "LD_standard = standardize(LD_data)\n",
    "LA_standard = standardize(LA_data)\n",
    "\n",
    "#apply the time window\n",
    "size_= 10\n",
    "step = 1\n",
    "ground_truth=reform_ground_truth(ground_truth)\n",
    "awake_window, _, drowsy_window=ground_truth_sep(ground_truth,size_,step) #ignoew the light drowsy state\n",
    "\n",
    "def define_feature_matrix(window, data):\n",
    "    feature_matrix = []\n",
    "    for name in window.keys():\n",
    "        for i in range(len(window[name])):\n",
    "            begin = window[name][i][0]*sample_rate\n",
    "            end = (window[name][i][-1]+1)*sample_rate\n",
    "            feature_matrix.append(data[name][begin:end])\n",
    "    return np.array(feature_matrix)\n",
    "    \n",
    "\n",
    "awake_YR_feature = define_feature_matrix(awake_window, YR_standard)\n",
    "awake_SWA_feature = define_feature_matrix(awake_window, SWA_standard)\n",
    "awake_SWV_feature = define_feature_matrix(awake_window, SWV_standard)\n",
    "awake_LD_feature = define_feature_matrix(awake_window, LD_standard)\n",
    "awake_LA_feature = define_feature_matrix(awake_window, LA_standard)\n",
    "awake_feature_matrix=np.dstack((awake_YR_feature, awake_SWA_feature, awake_SWV_feature, awake_LD_feature, awake_LA_feature))\n",
    "awake_label = np.ones(awake_feature_matrix.shape[0])*0\n",
    "\n",
    "drowsy_YR_feature = define_feature_matrix(drowsy_window, YR_standard)\n",
    "drowsy_SWA_feature = define_feature_matrix(drowsy_window, SWA_standard)\n",
    "drowsy_SWV_feature = define_feature_matrix(drowsy_window, SWV_standard)\n",
    "drowsy_LD_feature = define_feature_matrix(drowsy_window, LD_standard)\n",
    "drowsy_LA_feature = define_feature_matrix(drowsy_window, LA_standard)\n",
    "drowsy_feature_matrix=np.dstack((drowsy_YR_feature, drowsy_SWA_feature, drowsy_SWV_feature, drowsy_LD_feature, drowsy_LA_feature))\n",
    "drowsy_label=np.ones(drowsy_feature_matrix.shape[0])\n",
    "\n",
    "\n",
    "feature_matrix=np.concatenate((awake_feature_matrix, drowsy_feature_matrix), axis=0)\n",
    "label=np.concatenate((awake_label, drowsy_label), axis=0)\n",
    "label=label.astype(int)"
   ],
   "id": "6585e6467601a9df",
   "outputs": [],
   "execution_count": 26
  },
  {
   "metadata": {
    "ExecuteTime": {
     "end_time": "2024-05-14T13:34:14.428020Z",
     "start_time": "2024-05-14T13:34:13.498561Z"
    }
   },
   "cell_type": "code",
   "source": [
    "\n",
    "X_train, X_test, y_train, y_test = train_test_split(feature_matrix, label, test_size=0.15, random_state=42)\n",
    "X_train, X_val, y_train, y_val = train_test_split(X_train, y_train, test_size=0.2, random_state=42)\n",
    "y_train = to_categorical(y_train)\n",
    "y_val = to_categorical(y_val)\n"
   ],
   "id": "1217858d0badbb03",
   "outputs": [],
   "execution_count": 42
  },
  {
   "metadata": {
    "ExecuteTime": {
     "end_time": "2024-05-14T13:53:19.048373Z",
     "start_time": "2024-05-14T13:53:19.036006Z"
    }
   },
   "cell_type": "code",
   "source": [
    "\n",
    "def make_model(space,best_params):\n",
    "    Input_layer = tf.keras.layers.Input(shape=(X_train.shape[1], X_train.shape[2]))\n",
    "    model= tf.keras.models.Sequential([\n",
    "        Input_layer,\n",
    "        # filters, kernel_size, activation, input_shape\n",
    "        tf.keras.layers.Conv1D(space['conv_filters_1'][best_params['conv_filters_1']], 3, activation=None),\n",
    "        tf.keras.layers.BatchNormalization(),\n",
    "        tf.keras.layers.Activation('relu'),\n",
    "        # window size\n",
    "        tf.keras.layers.MaxPooling1D(space['pooling_size_hyperopt'][best_params['pooling_size_hyperopt']]),\n",
    "        \n",
    "        tf.keras.layers.Conv1D(space['conv_filters_2'][best_params['conv_filters_2']], 3, activation=None),\n",
    "        tf.keras.layers.BatchNormalization(),\n",
    "        tf.keras.layers.Activation('relu'),\n",
    "        tf.keras.layers.MaxPooling1D(space['pooling_size_hyperopt'][best_params['pooling_size_hyperopt']]),\n",
    "        \n",
    "        tf.keras.layers.Conv1D(space['conv_filters_3'][best_params['conv_filters_3']], 3, activation=None),\n",
    "        tf.keras.layers.BatchNormalization(),\n",
    "        tf.keras.layers.Activation('relu'),\n",
    "        tf.keras.layers.MaxPooling1D(space['pooling_size_hyperopt'][best_params['pooling_size_hyperopt']]),\n",
    "        \n",
    "        tf.keras.layers.Conv1D(space['conv_filters_4'][best_params['conv_filters_4']], 3, activation=None, input_shape=(X_train.shape[1], X_train.shape[2])),\n",
    "        tf.keras.layers.BatchNormalization(),\n",
    "        tf.keras.layers.Activation('relu'),\n",
    "        tf.keras.layers.MaxPooling1D(space['pooling_size_hyperopt'][best_params['pooling_size_hyperopt']]),\n",
    "        \n",
    "        tf.keras.layers.LSTM(space['neurons_lstm'][best_params['neurons_lstm']]),\n",
    "        \n",
    "        tf.keras.layers.Flatten(),\n",
    "        tf.keras.layers.Dense(2, activation='softmax')\n",
    "    ])\n",
    "    \n",
    "    model.compile(optimizer=Adam(learning_rate=space['learning_rate'][best_params['learning_rate']]), loss=tf.keras.losses.CategoricalFocalCrossentropy(), metrics=[Recall(),Precision(),AUC()]) #maybe change the loss function\n",
    "    return model"
   ],
   "id": "3a8ce569f27c237e",
   "outputs": [],
   "execution_count": 47
  },
  {
   "metadata": {
    "ExecuteTime": {
     "end_time": "2024-05-14T14:58:27.420418Z",
     "start_time": "2024-05-14T14:58:27.401025Z"
    }
   },
   "cell_type": "code",
   "source": [
    "\n",
    "def confusion_matrix_on_test_data(model,model_name, X_test, y_test):\n",
    "    y_pred=[]\n",
    "    for row in model.predict(X_test):\n",
    "        y_pred.append(np.argmax(row))\n",
    "    y_pred=np.array(y_pred) \n",
    "    cm = confusion_matrix(y_test, y_pred)\n",
    "    print('Recall:', recall_score(y_test, y_pred))\n",
    "    print('F1:', f1_score(y_test, y_pred))\n",
    "    print('Precision:', cm[1,1]/(cm[1,1]+cm[0,1]))\n",
    "    plt.figure()\n",
    "    sns.heatmap(cm, annot=True, cmap='Blues', fmt='g', xticklabels=['Awake', 'Drowsy'], yticklabels=['Awake', 'Drowsy'])\n",
    "    plt.xlabel('Predicted Label')\n",
    "    plt.ylabel('True Label')\n",
    "    plt.title('Confusion Matrix of '+model_name)\n",
    "    plt.show()\n",
    "    "
   ],
   "id": "27904912ca23b26f",
   "outputs": [],
   "execution_count": 60
  },
  {
   "metadata": {
    "ExecuteTime": {
     "end_time": "2024-05-14T12:49:27.218775Z",
     "start_time": "2024-05-14T12:49:27.216438Z"
    }
   },
   "cell_type": "code",
   "source": [
    "# Scaling by total/2 helps keep the loss to a similar magnitude.\n",
    "# The sum of the weights of all examples stays the same.\n",
    "weight_for_0 = (1 / len(awake_label)) * (len(label) / 2.0) #awake\n",
    "weight_for_1 = (1 / len(drowsy_label)) * (len(label) / 2.0) #drowsy\n",
    "\n",
    "class_weight = {0: weight_for_0, 1: weight_for_1}"
   ],
   "id": "f19764272978a522",
   "outputs": [],
   "execution_count": 30
  },
  {
   "metadata": {
    "ExecuteTime": {
     "end_time": "2024-05-14T12:49:28.975224Z",
     "start_time": "2024-05-14T12:49:28.969098Z"
    }
   },
   "cell_type": "code",
   "source": [
    "space = {\n",
    "    'conv_filters_1': hp.choice('conv_filters_1', [32, 64, 128]),\n",
    "    'conv_filters_2': hp.choice('conv_filters_2', [32, 64, 128]),\n",
    "    'conv_filters_3': hp.choice('conv_filters_3', [32, 64, 128]),\n",
    "    'conv_filters_4': hp.choice('conv_filters_4', [32, 64, 128]),\n",
    "    'mini_batch_size': hp.choice('mini_batch_size', [32, 64, 128]),\n",
    "    'learning_rate': hp.choice('learning_rate', [0.001, 0.005, 0.01]),\n",
    "    'pooling_size_hyperopt': hp.choice('pooling_size_hyperopt', [2,3]),\n",
    "    'neurons_lstm': hp.choice('neurons_lstm', [32, 64, 128]),\n",
    "    'neurons_gru': hp.choice('neurons_gru', [32, 64, 128])\n",
    "}\n",
    "\n",
    "space_params = {\n",
    "    'conv_filters_1': [32, 64, 128],\n",
    "    'conv_filters_2': [32, 64, 128],\n",
    "    'conv_filters_3': [32, 64, 128],\n",
    "    'conv_filters_4': [32, 64, 128],\n",
    "    'learning_rate': [0.001, 0.005, 0.01],\n",
    "    'mini_batch_size': [32, 64, 128],\n",
    "    'pooling_size_hyperopt': [2,3],\n",
    "    'neurons_lstm': [32, 64, 128],\n",
    "    'neurons_gru': [32, 64, 128]\n",
    "}"
   ],
   "id": "89d389c8146b0389",
   "outputs": [],
   "execution_count": 31
  },
  {
   "metadata": {
    "ExecuteTime": {
     "end_time": "2024-05-14T14:52:50.281596Z",
     "start_time": "2024-05-14T14:21:54.682787Z"
    }
   },
   "cell_type": "code",
   "source": [
    "def objective_weighted(params):\n",
    "    Input_layer = tf.keras.layers.Input(shape=(X_train.shape[1], X_train.shape[2]))\n",
    "    model= tf.keras.models.Sequential([\n",
    "        Input_layer,\n",
    "        tf.keras.layers.Conv1D(params['conv_filters_1'], 3, activation=None),\n",
    "        tf.keras.layers.BatchNormalization(),\n",
    "        tf.keras.layers.Activation('relu'),\n",
    "        tf.keras.layers.MaxPooling1D(params['pooling_size_hyperopt']),\n",
    "        \n",
    "        tf.keras.layers.Conv1D(params['conv_filters_2'], 3, activation=None),\n",
    "        tf.keras.layers.BatchNormalization(),\n",
    "        tf.keras.layers.Activation('relu'),\n",
    "        tf.keras.layers.MaxPooling1D(params['pooling_size_hyperopt']),\n",
    "        \n",
    "        tf.keras.layers.Conv1D(params['conv_filters_3'], 3, activation=None),\n",
    "        tf.keras.layers.BatchNormalization(),\n",
    "        tf.keras.layers.Activation('relu'),\n",
    "        tf.keras.layers.MaxPooling1D(params['pooling_size_hyperopt']),\n",
    "        \n",
    "        tf.keras.layers.Conv1D(params['conv_filters_4'], 3, activation=None, input_shape=(X_train.shape[1], X_train.shape[2])),\n",
    "        tf.keras.layers.BatchNormalization(),\n",
    "        tf.keras.layers.Activation('relu'),\n",
    "        tf.keras.layers.MaxPooling1D(params['pooling_size_hyperopt']),\n",
    "        \n",
    "        tf.keras.layers.LSTM(params['neurons_lstm']),\n",
    "        \n",
    "        tf.keras.layers.Flatten(),\n",
    "        tf.keras.layers.Dense(2, activation='softmax')\n",
    "        # tf.keras.layers.Dense(1, activation='sigmoid')\n",
    "    ])\n",
    "    \n",
    "    model.compile(optimizer=Adam(learning_rate=params['learning_rate']), loss=tf.keras.losses.CategoricalFocalCrossentropy(), metrics=[Recall(),Precision(),AUC()])\n",
    "    model.fit(X_train, y_train, epochs=5, batch_size=params['mini_batch_size'], validation_data=(X_val, y_val), verbose=0, class_weight=class_weight)\n",
    "    f1=f1_score(y_val.argmax(axis=1), model.predict(X_val).argmax(axis=1))\n",
    "    return -f1  # Hyperopt minimizes the objective function\n",
    "\n",
    "trials = Trials()\n",
    "best_params_weighted = fmin(objective_weighted, space, algo=tpe.suggest, max_evals=30, trials=trials)\n",
    "\n",
    "print(\"Best hyperparameters:\", best_params_weighted)\n",
    "\n",
    "best_weighted_model = make_model(space_params, best_params_weighted)\n",
    "best_weighted_model.fit(X_train, y_train, epochs=5, batch_size=space_params['mini_batch_size'][best_params_weighted['mini_batch_size']], validation_data=(X_val, y_val), verbose=0, class_weight=class_weight)"
   ],
   "id": "effce7e8023b046",
   "outputs": [],
   "execution_count": null
  },
  {
   "metadata": {
    "ExecuteTime": {
     "end_time": "2024-05-14T14:58:51.309185Z",
     "start_time": "2024-05-14T14:58:50.441479Z"
    }
   },
   "cell_type": "code",
   "source": [
    "\n",
    "confusion_matrix_on_test_data(best_weighted_model, 'best_weighted_model', X_test, y_test)"
   ],
   "id": "1e88cfddde8f4b0c",
   "outputs": [
    {
     "name": "stdout",
     "output_type": "stream",
     "text": [
      "\u001B[1m91/91\u001B[0m \u001B[32m━━━━━━━━━━━━━━━━━━━━\u001B[0m\u001B[37m\u001B[0m \u001B[1m1s\u001B[0m 7ms/step\n",
      "Recall: 0.8571428571428571\n",
      "F1: 0.16687737041719342\n",
      "Precision: 0.09243697478991597\n"
     ]
    },
    {
     "data": {
      "text/plain": [
       "<Figure size 640x480 with 2 Axes>"
      ],
      "image/png": "[encoded data removed]"
     },
     "metadata": {},
     "output_type": "display_data"
    }
   ],
   "execution_count": 61
  },
  {
   "metadata": {},
   "cell_type": "code",
   "outputs": [],
   "execution_count": null,
   "source": "",
   "id": "b8480c987d72e3c0"
  }
 ],
 "metadata": {
  "kernelspec": {
   "display_name": "Python 3",
   "language": "python",
   "name": "python3"
  },
  "language_info": {
   "codemirror_mode": {
    "name": "ipython",
    "version": 2
   },
   "file_extension": ".py",
   "mimetype": "text/x-python",
   "name": "python",
   "nbconvert_exporter": "python",
   "pygments_lexer": "ipython2",
   "version": "2.7.6"
  }
 },
 "nbformat": 4,
 "nbformat_minor": 5
}
