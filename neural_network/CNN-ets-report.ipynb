{
 "cells": [
  {
   "cell_type": "code",
   "id": "initial_id",
   "metadata": {
    "collapsed": true,
    "ExecuteTime": {
     "end_time": "2024-06-13T09:57:13.671628Z",
     "start_time": "2024-06-13T09:57:13.668411Z"
    }
   },
   "source": [
    "import datetime\n",
    "import numpy as np\n",
    "from sklearn.model_selection import train_test_split\n",
    "import tensorflow as tf\n",
    "from tensorflow.keras.optimizers import Adam\n",
    "from tensorflow.keras.metrics import Recall, Precision, AUC\n",
    "from sklearn.metrics import confusion_matrix, recall_score, f1_score, precision_score, roc_auc_score\n",
    "import seaborn as sns\n",
    "from matplotlib import pyplot as plt\n",
    "from hyperopt import hp, fmin, tpe, Trials\n",
    "from tensorflow.keras import losses\n",
    "from tensorflow.keras.utils import to_categorical\n",
    "from sklearn.model_selection import TimeSeriesSplit\n",
    "from sklearn.utils.class_weight import compute_class_weight\n",
    "np.random.seed(78)"
   ],
   "outputs": [],
   "execution_count": 14
  },
  {
   "metadata": {
    "ExecuteTime": {
     "end_time": "2024-06-13T09:45:38.753534Z",
     "start_time": "2024-06-13T09:41:36.204933Z"
    }
   },
   "cell_type": "code",
   "source": [
    "from importlib import reload\n",
    "import EuroTruck.ProcessEuroTruckData.process_ets_data\n",
    "reload(EuroTruck.ProcessEuroTruckData.process_ets_data)\n",
    "from EuroTruck.ProcessEuroTruckData.process_ets_data import data_rq_cc\n",
    "from EuroTruck.ProcessEuroTruckData.process_ets_data import data_michele_cc\n",
    "from EuroTruck.ProcessEuroTruckData.process_ets_data import data_sara_cc"
   ],
   "id": "b68c0da6a5944a12",
   "outputs": [],
   "execution_count": 2
  },
  {
   "metadata": {
    "ExecuteTime": {
     "end_time": "2024-06-13T09:48:45.614719Z",
     "start_time": "2024-06-13T09:48:44.087093Z"
    }
   },
   "cell_type": "code",
   "source": [
    "def seperate_ground_truth(data, size, step):\n",
    "    awake_window = []\n",
    "    light_drowsy_window = []\n",
    "    drowsy_window = []\n",
    "    general_window = []\n",
    "    time = next(iter(data.table))\n",
    "    while time + datetime.timedelta(seconds=size) <= next(reversed(data.table)):\n",
    "        awake_count = 0\n",
    "        light_drowsy_count = 0\n",
    "        drowsy_count = 0\n",
    "        for i in range(size):\n",
    "            check_time = time + datetime.timedelta(seconds=i)\n",
    "            if check_time not in data.table:\n",
    "                break\n",
    "            if data.table[check_time][\"groud_truth\"] == [1]:\n",
    "                awake_count += 1\n",
    "            if data.table[check_time][\"groud_truth\"] == [2] or data.table[check_time][\"groud_truth\"] == [3]:\n",
    "                light_drowsy_count += 1\n",
    "            if data.table[check_time][\"groud_truth\"] == [4]:\n",
    "                drowsy_count += 1\n",
    "\n",
    "        if awake_count == size:\n",
    "            general_window.append([time + datetime.timedelta(seconds=i) for i in range(size)])\n",
    "            awake_window.append([time + datetime.timedelta(seconds=i) for i in range(size)])\n",
    "        if light_drowsy_count == size:\n",
    "            general_window.append([time + datetime.timedelta(seconds=i) for i in range(size)])\n",
    "            light_drowsy_window.append([time + datetime.timedelta(seconds=i) for i in range(size)])\n",
    "        if drowsy_count == size:\n",
    "            general_window.append([time + datetime.timedelta(seconds=i) for i in range(size)])\n",
    "            drowsy_window.append([time + datetime.timedelta(seconds=i) for i in range(size)])\n",
    "\n",
    "        step_seconds = datetime.timedelta(seconds=step)\n",
    "        time += step_seconds\n",
    "    \n",
    "    # 因为这里awake——window只会用来决定某个窗口的ground truth，所以转换成set可以方便查找    \n",
    "    awake_window=set([tuple(window) for window in awake_window])\n",
    "    light_drowsy_window=set([tuple(window) for window in light_drowsy_window])\n",
    "    drowsy_window=set([tuple(window) for window in drowsy_window])\n",
    "    \n",
    "    # drowsy window is a list of list of datetime objects which is the key\n",
    "    return awake_window, light_drowsy_window, drowsy_window, general_window\n",
    "\n",
    "\n",
    "def define_feature_matrix(data, awake_window, light_drowsy_window, drowsy_window, general_window,sampling_rate,size):\n",
    "    if general_window == []:\n",
    "        return np.empty((0, sampling_rate*size, 4))\n",
    "    feature_matrix = []\n",
    "    label = []\n",
    "    for window in general_window:\n",
    "        feature_matrix_per_window = []\n",
    "\n",
    "        SWA_colunm = []\n",
    "        for time in window:\n",
    "            SWA_colunm.extend(data.table[time][\"SWA_data\"])\n",
    "        feature_matrix_per_window.append(SWA_colunm)\n",
    "\n",
    "        SWV_column = []\n",
    "        for time in window:\n",
    "            SWV_column.extend(data.table[time][\"SWV_data\"])\n",
    "        feature_matrix_per_window.append(SWV_column)\n",
    "\n",
    "        LD_column = []\n",
    "        for time in window:\n",
    "            LD_column.extend(data.table[time][\"lateral_displacement_data\"])\n",
    "        feature_matrix_per_window.append(LD_column)\n",
    "\n",
    "        LA_column = []\n",
    "        for time in window:\n",
    "            LA_column.extend(data.table[time][\"lateral_acceleration_data\"])\n",
    "        feature_matrix_per_window.append(LA_column)\n",
    "\n",
    "        feature_matrix_per_window = np.transpose(np.array(feature_matrix_per_window))\n",
    "        feature_matrix.append(feature_matrix_per_window)\n",
    "        if tuple(window) in awake_window:\n",
    "            label.append(0)\n",
    "        if tuple(window) in light_drowsy_window:\n",
    "            label.append(1)\n",
    "        if tuple(window) in drowsy_window:\n",
    "            label.append(2)\n",
    "        \n",
    "    feature_matrix = np.array(feature_matrix)\n",
    "    label = np.array(label)\n",
    "    return feature_matrix, label\n",
    "\n",
    "\n",
    "size= 10\n",
    "step = 1\n",
    "sample_rate = data_rq_cc.get_min_sampling_rate()\n",
    "\n",
    "X_rq,y_rq = define_feature_matrix(data_rq_cc, *seperate_ground_truth(data_rq_cc, size, step), sample_rate, size)\n",
    "X_michele,y_michele = define_feature_matrix(data_michele_cc, *seperate_ground_truth(data_michele_cc, size, step), sample_rate, size)\n",
    "X_sara,y_sara = define_feature_matrix(data_sara_cc, *seperate_ground_truth(data_sara_cc, size, step), sample_rate, size)\n",
    "X_train = np.concatenate((X_rq,X_sara),axis=0)\n",
    "y_train = np.concatenate((y_rq,y_sara),axis=0)\n",
    "X_rest = X_michele\n",
    "y_rest = y_michele\n",
    "X_test=X_rest[:int(X_rest.shape[0]/2)]\n",
    "y_test=y_rest[:int(y_rest.shape[0]/2)]\n",
    "\n",
    "X_val=X_rest[int(X_rest.shape[0]/2):]\n",
    "y_val=y_rest[int(y_rest.shape[0]/2):]\n",
    "\n",
    "classes = np.unique(y_train)\n",
    "class_weights = compute_class_weight(class_weight='balanced', classes=classes, y=y_train)\n",
    "class_weight_dict = dict(zip(classes, class_weights))"
   ],
   "id": "e9e2a51c09388926",
   "outputs": [],
   "execution_count": 7
  },
  {
   "metadata": {
    "ExecuteTime": {
     "end_time": "2024-06-13T10:02:51.021262Z",
     "start_time": "2024-06-13T10:02:51.015872Z"
    }
   },
   "cell_type": "code",
   "source": [
    "def make_model():\n",
    "    model = tf.keras.models.Sequential([\n",
    "        tf.keras.layers.Input(shape=(X_train.shape[1], X_train.shape[2])),\n",
    "        # filters, kernel_size, activation, input_shape\n",
    "        tf.keras.layers.Conv1D(128, 3, activation=None, kernel_initializer='he_normal'),\n",
    "        tf.keras.layers.BatchNormalization(),\n",
    "        tf.keras.layers.Activation('relu'),\n",
    "        tf.keras.layers.MaxPooling1D(3),\n",
    "\n",
    "        tf.keras.layers.Conv1D(32, 3, activation=None, kernel_initializer='he_normal'),\n",
    "        tf.keras.layers.BatchNormalization(),\n",
    "        tf.keras.layers.Activation('relu'),\n",
    "        tf.keras.layers.MaxPooling1D(3),\n",
    "\n",
    "        tf.keras.layers.Conv1D(32, 3, activation=None, kernel_initializer='he_normal'),\n",
    "        tf.keras.layers.BatchNormalization(),\n",
    "        tf.keras.layers.Activation('relu'),\n",
    "        tf.keras.layers.MaxPooling1D(3),\n",
    "\n",
    "        # tf.keras.layers.Conv1D(32, 3, activation=None),\n",
    "        # tf.keras.layers.BatchNormalization(),\n",
    "        # tf.keras.layers.Activation('relu'),\n",
    "        # tf.keras.layers.MaxPooling1D(2),\n",
    "\n",
    "        tf.keras.layers.GRU(64),\n",
    "        # tf.keras.layers.Dropout(0.25),\n",
    "        tf.keras.layers.Flatten(),\n",
    "        tf.keras.layers.Dense(2, activation='softmax',kernel_initializer='he_normal')\n",
    "    ])\n",
    "\n",
    "    model.compile(optimizer=Adam(learning_rate=0.001), loss=tf.keras.losses.CategoricalFocalCrossentropy(alpha=list(class_weight_dict), gamma=2), metrics=['categorical_accuracy'])\n",
    "    return model\n",
    "\n",
    "def confusion_matrix_on_test_data(model,model_name, X_test, y_test):\n",
    "    labels=[0,1,2]\n",
    "    y_pred=[]\n",
    "    for row in model.predict(X_test):\n",
    "        y_pred.append(np.argmax(row))\n",
    "    y_pred=np.array(y_pred) \n",
    "    cm = confusion_matrix(y_test, y_pred,labels=labels)\n",
    "    sns.heatmap(cm, annot=True, cmap='Blues', fmt='g', xticklabels=['Class 1', 'Class 2', 'Class 3'], yticklabels=['Class 1', 'Class 2', 'Class 3'])\n",
    "    plt.xlabel('Predicted Label')\n",
    "    plt.ylabel('True Label')\n",
    "    plt.title('Confusion Matrix of '+model_name)\n",
    "    plt.show()"
   ],
   "id": "fc1ae2ce10f0717d",
   "outputs": [],
   "execution_count": 20
  },
  {
   "metadata": {
    "ExecuteTime": {
     "end_time": "2024-06-13T10:05:41.396896Z",
     "start_time": "2024-06-13T10:02:53.266154Z"
    }
   },
   "cell_type": "code",
   "source": [
    "y_train_one_hot = to_categorical(y_train)\n",
    "y_val_one_hot = to_categorical(y_val)\n",
    "model=make_model()\n",
    "model.fit(X_train, y_train_one_hot, epochs=100, batch_size=128, verbose=0,validation_data=(X_val, y_val_one_hot))"
   ],
   "id": "533f032aa14a336f",
   "outputs": [
    {
     "data": {
      "text/plain": [
       "<keras.src.callbacks.history.History at 0x354423650>"
      ]
     },
     "execution_count": 21,
     "metadata": {},
     "output_type": "execute_result"
    }
   ],
   "execution_count": 21
  },
  {
   "metadata": {
    "ExecuteTime": {
     "end_time": "2024-06-13T10:05:45.850897Z",
     "start_time": "2024-06-13T10:05:45.533401Z"
    }
   },
   "cell_type": "code",
   "source": [
    "\n",
    "auc_roc = roc_auc_score(y_val, model.predict(X_val,verbose=0)[:, 1])\n",
    "print('AUC-ROC:', auc_roc)\n",
    "# confusion_matrix_on_test_data(model, 'Test Data', X_test, y_test)"
   ],
   "id": "750bc1df293d6c0e",
   "outputs": [
    {
     "name": "stdout",
     "output_type": "stream",
     "text": [
      "AUC-ROC: 0.5177154492905938\n"
     ]
    }
   ],
   "execution_count": 22
  }
 ],
 "metadata": {
  "kernelspec": {
   "display_name": "Python 3",
   "language": "python",
   "name": "python3"
  },
  "language_info": {
   "codemirror_mode": {
    "name": "ipython",
    "version": 2
   },
   "file_extension": ".py",
   "mimetype": "text/x-python",
   "name": "python",
   "nbconvert_exporter": "python",
   "pygments_lexer": "ipython2",
   "version": "2.7.6"
  }
 },
 "nbformat": 4,
 "nbformat_minor": 5
}
